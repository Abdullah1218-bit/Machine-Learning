{
 "cells": [
  {
   "cell_type": "code",
   "execution_count": 59,
   "id": "bc9ec26e",
   "metadata": {},
   "outputs": [
    {
     "data": {
      "application/vnd.microsoft.datawrangler.viewer.v0+json": {
       "columns": [
        {
         "name": "index",
         "rawType": "int64",
         "type": "integer"
        },
        {
         "name": "age",
         "rawType": "int64",
         "type": "integer"
        }
       ],
       "ref": "4ef08327-6eb7-4eff-99c4-9eefdba9ec58",
       "rows": [
        [
         "0",
         "20"
        ],
        [
         "1",
         "21"
        ],
        [
         "2",
         "22"
        ],
        [
         "3",
         "23"
        ],
        [
         "4",
         "24"
        ],
        [
         "5",
         "25"
        ],
        [
         "6",
         "26"
        ],
        [
         "7",
         "27"
        ],
        [
         "8",
         "28"
        ],
        [
         "9",
         "29"
        ],
        [
         "10",
         "30"
        ],
        [
         "11",
         "53"
        ]
       ],
       "shape": {
        "columns": 1,
        "rows": 12
       }
      },
      "text/html": [
       "<div>\n",
       "<style scoped>\n",
       "    .dataframe tbody tr th:only-of-type {\n",
       "        vertical-align: middle;\n",
       "    }\n",
       "\n",
       "    .dataframe tbody tr th {\n",
       "        vertical-align: top;\n",
       "    }\n",
       "\n",
       "    .dataframe thead th {\n",
       "        text-align: right;\n",
       "    }\n",
       "</style>\n",
       "<table border=\"1\" class=\"dataframe\">\n",
       "  <thead>\n",
       "    <tr style=\"text-align: right;\">\n",
       "      <th></th>\n",
       "      <th>age</th>\n",
       "    </tr>\n",
       "  </thead>\n",
       "  <tbody>\n",
       "    <tr>\n",
       "      <th>0</th>\n",
       "      <td>20</td>\n",
       "    </tr>\n",
       "    <tr>\n",
       "      <th>1</th>\n",
       "      <td>21</td>\n",
       "    </tr>\n",
       "    <tr>\n",
       "      <th>2</th>\n",
       "      <td>22</td>\n",
       "    </tr>\n",
       "    <tr>\n",
       "      <th>3</th>\n",
       "      <td>23</td>\n",
       "    </tr>\n",
       "    <tr>\n",
       "      <th>4</th>\n",
       "      <td>24</td>\n",
       "    </tr>\n",
       "    <tr>\n",
       "      <th>5</th>\n",
       "      <td>25</td>\n",
       "    </tr>\n",
       "    <tr>\n",
       "      <th>6</th>\n",
       "      <td>26</td>\n",
       "    </tr>\n",
       "    <tr>\n",
       "      <th>7</th>\n",
       "      <td>27</td>\n",
       "    </tr>\n",
       "    <tr>\n",
       "      <th>8</th>\n",
       "      <td>28</td>\n",
       "    </tr>\n",
       "    <tr>\n",
       "      <th>9</th>\n",
       "      <td>29</td>\n",
       "    </tr>\n",
       "    <tr>\n",
       "      <th>10</th>\n",
       "      <td>30</td>\n",
       "    </tr>\n",
       "    <tr>\n",
       "      <th>11</th>\n",
       "      <td>53</td>\n",
       "    </tr>\n",
       "  </tbody>\n",
       "</table>\n",
       "</div>"
      ],
      "text/plain": [
       "    age\n",
       "0    20\n",
       "1    21\n",
       "2    22\n",
       "3    23\n",
       "4    24\n",
       "5    25\n",
       "6    26\n",
       "7    27\n",
       "8    28\n",
       "9    29\n",
       "10   30\n",
       "11   53"
      ]
     },
     "execution_count": 59,
     "metadata": {},
     "output_type": "execute_result"
    }
   ],
   "source": [
    "import pandas as pd\n",
    "import numpy as np\n",
    "import seaborn as sns\n",
    "import matplotlib.pyplot as plt\n",
    "df = pd.DataFrame({'age': [20, 21, 22, 23, 24, 25, 26, 27,28,29,30,53]})\n",
    "df\n"
   ]
  },
  {
   "cell_type": "markdown",
   "id": "8958afa7",
   "metadata": {},
   "source": [
    "# ***Finding Outliear Using Histogram***"
   ]
  },
  {
   "cell_type": "code",
   "execution_count": 60,
   "id": "5a7ca851",
   "metadata": {},
   "outputs": [
    {
     "data": {
      "text/plain": [
       "<Axes: xlabel='age', ylabel='Count'>"
      ]
     },
     "execution_count": 60,
     "metadata": {},
     "output_type": "execute_result"
    },
    {
     "data": {
      "image/png": "[encoded data removed]",
      "text/plain": [
       "<Figure size 640x480 with 1 Axes>"
      ]
     },
     "metadata": {},
     "output_type": "display_data"
    }
   ],
   "source": [
    "sns.histplot(df.age,kde=True,bins=5)\n"
   ]
  },
  {
   "cell_type": "markdown",
   "id": "325360b2",
   "metadata": {},
   "source": [
    "# ***Finding Outliear Using Boxplot***"
   ]
  },
  {
   "cell_type": "code",
   "execution_count": 61,
   "id": "60e4676e",
   "metadata": {},
   "outputs": [
    {
     "data": {
      "text/plain": [
       "<Axes: ylabel='age'>"
      ]
     },
     "execution_count": 61,
     "metadata": {},
     "output_type": "execute_result"
    },
    {
     "data": {
      "image/png": "[encoded data removed]",
      "text/plain": [
       "<Figure size 500x700 with 1 Axes>"
      ]
     },
     "metadata": {},
     "output_type": "display_data"
    }
   ],
   "source": [
    "figure=plt.figure(figsize=(5,7))\n",
    "sns.boxplot(df.age)"
   ]
  },
  {
   "cell_type": "code",
   "execution_count": 62,
   "id": "dd8c6088",
   "metadata": {},
   "outputs": [],
   "source": [
    "mean=np.mean(df['age'])"
   ]
  },
  {
   "cell_type": "code",
   "execution_count": 63,
   "id": "eb11dd46",
   "metadata": {},
   "outputs": [],
   "source": [
    "std=np.std(df['age'])"
   ]
  },
  {
   "cell_type": "markdown",
   "id": "ede29cde",
   "metadata": {},
   "source": [
    "# ***calculating Z Score,if z score > 3 then it is outlier***\n"
   ]
  },
  {
   "cell_type": "code",
   "execution_count": 64,
   "id": "44156a67",
   "metadata": {},
   "outputs": [],
   "source": [
    "from scipy import stats\n",
    "z_score=stats.zscore(df['age'])\n",
    "df=df[(z_score>-3) & (z_score<3)]"
   ]
  },
  {
   "cell_type": "code",
   "execution_count": 65,
   "id": "5adabde4",
   "metadata": {},
   "outputs": [
    {
     "data": {
      "application/vnd.microsoft.datawrangler.viewer.v0+json": {
       "columns": [
        {
         "name": "index",
         "rawType": "int64",
         "type": "integer"
        },
        {
         "name": "age",
         "rawType": "float64",
         "type": "float"
        }
       ],
       "ref": "a0289cbd-1ce0-4259-9290-4712d892b7d7",
       "rows": [
        [
         "0",
         "-0.8824743973322413"
        ],
        [
         "1",
         "-0.7621369795142083"
        ],
        [
         "2",
         "-0.6417995616961755"
        ],
        [
         "3",
         "-0.5214621438781425"
        ],
        [
         "4",
         "-0.40112472606010957"
        ],
        [
         "5",
         "-0.28078730824207665"
        ],
        [
         "6",
         "-0.16044989042404376"
        ],
        [
         "7",
         "-0.04011247260601083"
        ],
        [
         "8",
         "0.08022494521202209"
        ],
        [
         "9",
         "0.200562363030055"
        ],
        [
         "10",
         "0.3208997808480879"
        ],
        [
         "11",
         "3.088660390662845"
        ]
       ],
       "shape": {
        "columns": 1,
        "rows": 12
       }
      },
      "text/plain": [
       "0    -0.882474\n",
       "1    -0.762137\n",
       "2    -0.641800\n",
       "3    -0.521462\n",
       "4    -0.401125\n",
       "5    -0.280787\n",
       "6    -0.160450\n",
       "7    -0.040112\n",
       "8     0.080225\n",
       "9     0.200562\n",
       "10    0.320900\n",
       "11    3.088660\n",
       "Name: age, dtype: float64"
      ]
     },
     "execution_count": 65,
     "metadata": {},
     "output_type": "execute_result"
    }
   ],
   "source": [
    "z_score"
   ]
  },
  {
   "cell_type": "code",
   "execution_count": 66,
   "id": "e4d3a323",
   "metadata": {},
   "outputs": [
    {
     "data": {
      "application/vnd.microsoft.datawrangler.viewer.v0+json": {
       "columns": [
        {
         "name": "index",
         "rawType": "int64",
         "type": "integer"
        },
        {
         "name": "age",
         "rawType": "int64",
         "type": "integer"
        }
       ],
       "ref": "a7e556e5-7719-41ed-90e2-be8cc8fda4b0",
       "rows": [
        [
         "0",
         "20"
        ],
        [
         "1",
         "21"
        ],
        [
         "2",
         "22"
        ],
        [
         "3",
         "23"
        ],
        [
         "4",
         "24"
        ],
        [
         "5",
         "25"
        ],
        [
         "6",
         "26"
        ],
        [
         "7",
         "27"
        ],
        [
         "8",
         "28"
        ],
        [
         "9",
         "29"
        ],
        [
         "10",
         "30"
        ]
       ],
       "shape": {
        "columns": 1,
        "rows": 11
       }
      },
      "text/html": [
       "<div>\n",
       "<style scoped>\n",
       "    .dataframe tbody tr th:only-of-type {\n",
       "        vertical-align: middle;\n",
       "    }\n",
       "\n",
       "    .dataframe tbody tr th {\n",
       "        vertical-align: top;\n",
       "    }\n",
       "\n",
       "    .dataframe thead th {\n",
       "        text-align: right;\n",
       "    }\n",
       "</style>\n",
       "<table border=\"1\" class=\"dataframe\">\n",
       "  <thead>\n",
       "    <tr style=\"text-align: right;\">\n",
       "      <th></th>\n",
       "      <th>age</th>\n",
       "    </tr>\n",
       "  </thead>\n",
       "  <tbody>\n",
       "    <tr>\n",
       "      <th>0</th>\n",
       "      <td>20</td>\n",
       "    </tr>\n",
       "    <tr>\n",
       "      <th>1</th>\n",
       "      <td>21</td>\n",
       "    </tr>\n",
       "    <tr>\n",
       "      <th>2</th>\n",
       "      <td>22</td>\n",
       "    </tr>\n",
       "    <tr>\n",
       "      <th>3</th>\n",
       "      <td>23</td>\n",
       "    </tr>\n",
       "    <tr>\n",
       "      <th>4</th>\n",
       "      <td>24</td>\n",
       "    </tr>\n",
       "    <tr>\n",
       "      <th>5</th>\n",
       "      <td>25</td>\n",
       "    </tr>\n",
       "    <tr>\n",
       "      <th>6</th>\n",
       "      <td>26</td>\n",
       "    </tr>\n",
       "    <tr>\n",
       "      <th>7</th>\n",
       "      <td>27</td>\n",
       "    </tr>\n",
       "    <tr>\n",
       "      <th>8</th>\n",
       "      <td>28</td>\n",
       "    </tr>\n",
       "    <tr>\n",
       "      <th>9</th>\n",
       "      <td>29</td>\n",
       "    </tr>\n",
       "    <tr>\n",
       "      <th>10</th>\n",
       "      <td>30</td>\n",
       "    </tr>\n",
       "  </tbody>\n",
       "</table>\n",
       "</div>"
      ],
      "text/plain": [
       "    age\n",
       "0    20\n",
       "1    21\n",
       "2    22\n",
       "3    23\n",
       "4    24\n",
       "5    25\n",
       "6    26\n",
       "7    27\n",
       "8    28\n",
       "9    29\n",
       "10   30"
      ]
     },
     "execution_count": 66,
     "metadata": {},
     "output_type": "execute_result"
    }
   ],
   "source": [
    "df"
   ]
  },
  {
   "cell_type": "markdown",
   "id": "68ce779e",
   "metadata": {},
   "source": [
    "# **Finding Outlier Using IQR**"
   ]
  },
  {
   "cell_type": "code",
   "execution_count": 70,
   "id": "34073f81",
   "metadata": {},
   "outputs": [
    {
     "name": "stdout",
     "output_type": "stream",
     "text": [
      "IQR= 5.0\n",
      "15.0 35.0\n"
     ]
    }
   ],
   "source": [
    "Q1=np.quantile(df['age'],0.25)\n",
    "Q3=np.quantile(df['age'],0.75)\n",
    "IQR=Q3-Q1\n",
    "print('IQR=',IQR) \n",
    "\n",
    "Lower_Bound=Q1-(1.5*IQR)\n",
    "Upper_Bound=Q3+(1.5*IQR)\n",
    "print(Lower_Bound,Upper_Bound)\n",
    "\n"
   ]
  },
  {
   "cell_type": "markdown",
   "id": "d00e5e4b",
   "metadata": {},
   "source": [
    "# **Check After Removing Outliear**"
   ]
  },
  {
   "cell_type": "code",
   "execution_count": 68,
   "id": "5972775c",
   "metadata": {},
   "outputs": [
    {
     "data": {
      "text/plain": [
       "<Axes: ylabel='age'>"
      ]
     },
     "execution_count": 68,
     "metadata": {},
     "output_type": "execute_result"
    },
    {
     "data": {
      "image/png": "[encoded data removed]",
      "text/plain": [
       "<Figure size 500x700 with 1 Axes>"
      ]
     },
     "metadata": {},
     "output_type": "display_data"
    }
   ],
   "source": [
    "figure=plt.figure(figsize=(5,7))\n",
    "sns.boxplot(df.age)"
   ]
  },
  {
   "cell_type": "code",
   "execution_count": 69,
   "id": "21f29dfa",
   "metadata": {},
   "outputs": [
    {
     "data": {
      "text/plain": [
       "<Axes: xlabel='age', ylabel='Count'>"
      ]
     },
     "execution_count": 69,
     "metadata": {},
     "output_type": "execute_result"
    },
    {
     "data": {
      "image/png": "[encoded data removed]",
      "text/plain": [
       "<Figure size 640x480 with 1 Axes>"
      ]
     },
     "metadata": {},
     "output_type": "display_data"
    }
   ],
   "source": [
    "sns.histplot(df.age,kde=True,bins=5)\n"
   ]
  }
 ],
 "metadata": {
  "kernelspec": {
   "display_name": "base",
   "language": "python",
   "name": "python3"
  },
  "language_info": {
   "codemirror_mode": {
    "name": "ipython",
    "version": 3
   },
   "file_extension": ".py",
   "mimetype": "text/x-python",
   "name": "python",
   "nbconvert_exporter": "python",
   "pygments_lexer": "ipython3",
   "version": "3.12.7"
  }
 },
 "nbformat": 4,
 "nbformat_minor": 5
}
