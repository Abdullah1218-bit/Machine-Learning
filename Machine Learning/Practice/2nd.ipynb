{
 "cells": [
  {
   "cell_type": "code",
   "execution_count": 6,
   "id": "eb035063",
   "metadata": {},
   "outputs": [],
   "source": [
    "import pandas as pd\n",
    "import numpy as np\n",
    "import seaborn as sns\n",
    "import matplotlib.pyplot as plt\n",
    "from sklearn.model_selection import train_test_split, cross_val_score, GridSearchCV\n",
    "from sklearn.impute import SimpleImputer, KNNImputer, MissingIndicator, SimpleImputer\n",
    "from sklearn.linear_model import LinearRegression, Lasso, Ridge, ElasticNet\n",
    "from sklearn.metrics import mean_squared_error, r2_score, mean_absolute_error, mean_squared_log_error, mean_absolute_percentage_error\n",
    "from sklearn.svm import SVR\n",
    "from sklearn.tree import DecisionTreeRegressor\n",
    "from sklearn.ensemble import RandomForestRegressor"
   ]
  },
  {
   "cell_type": "code",
   "execution_count": 7,
   "id": "8b6e8397",
   "metadata": {},
   "outputs": [
    {
     "data": {
      "application/vnd.microsoft.datawrangler.viewer.v0+json": {
       "columns": [
        {
         "name": "index",
         "rawType": "int64",
         "type": "integer"
        },
        {
         "name": "method",
         "rawType": "object",
         "type": "string"
        },
        {
         "name": "number",
         "rawType": "int64",
         "type": "integer"
        },
        {
         "name": "orbital_period",
         "rawType": "float64",
         "type": "float"
        },
        {
         "name": "mass",
         "rawType": "float64",
         "type": "float"
        },
        {
         "name": "distance",
         "rawType": "float64",
         "type": "float"
        },
        {
         "name": "year",
         "rawType": "int64",
         "type": "integer"
        }
       ],
       "ref": "a78c4951-709f-42f5-8a8a-f748b66c5927",
       "rows": [
        [
         "0",
         "Radial Velocity",
         "1",
         "269.3",
         "7.1",
         "77.4",
         "2006"
        ],
        [
         "1",
         "Radial Velocity",
         "1",
         "874.774",
         "2.21",
         "56.95",
         "2008"
        ],
        [
         "2",
         "Radial Velocity",
         "1",
         "763.0",
         "2.6",
         "19.84",
         "2011"
        ],
        [
         "3",
         "Radial Velocity",
         "1",
         "326.03",
         "19.4",
         "110.62",
         "2007"
        ],
        [
         "4",
         "Radial Velocity",
         "1",
         "516.22",
         "10.5",
         "119.47",
         "2009"
        ],
        [
         "5",
         "Radial Velocity",
         "1",
         "185.84",
         "4.8",
         "76.39",
         "2008"
        ],
        [
         "6",
         "Radial Velocity",
         "1",
         "1773.4",
         "4.64",
         "18.15",
         "2002"
        ],
        [
         "7",
         "Radial Velocity",
         "1",
         "798.5",
         null,
         "21.41",
         "1996"
        ],
        [
         "8",
         "Radial Velocity",
         "1",
         "993.3",
         "10.3",
         "73.1",
         "2008"
        ],
        [
         "9",
         "Radial Velocity",
         "2",
         "452.8",
         "1.99",
         "74.79",
         "2010"
        ],
        [
         "10",
         "Radial Velocity",
         "2",
         "883.0",
         "0.86",
         "74.79",
         "2010"
        ],
        [
         "11",
         "Radial Velocity",
         "1",
         "335.1",
         "9.88",
         "39.43",
         "2009"
        ],
        [
         "12",
         "Radial Velocity",
         "1",
         "479.1",
         "3.88",
         "97.28",
         "2008"
        ],
        [
         "13",
         "Radial Velocity",
         "3",
         "1078.0",
         "2.53",
         "14.08",
         "1996"
        ],
        [
         "14",
         "Radial Velocity",
         "3",
         "2391.0",
         "0.54",
         "14.08",
         "2001"
        ],
        [
         "15",
         "Radial Velocity",
         "3",
         "14002.0",
         "1.64",
         "14.08",
         "2009"
        ],
        [
         "16",
         "Radial Velocity",
         "1",
         "4.230785",
         "0.472",
         "15.36",
         "1995"
        ],
        [
         "17",
         "Radial Velocity",
         "5",
         "14.651",
         "0.8",
         "12.53",
         "1996"
        ],
        [
         "18",
         "Radial Velocity",
         "5",
         "44.38",
         "0.165",
         "12.53",
         "2004"
        ],
        [
         "19",
         "Radial Velocity",
         "5",
         "4909.0",
         "3.53",
         "12.53",
         "2002"
        ],
        [
         "20",
         "Radial Velocity",
         "5",
         "0.73654",
         null,
         "12.53",
         "2011"
        ],
        [
         "21",
         "Radial Velocity",
         "5",
         "261.2",
         "0.172",
         "12.53",
         "2007"
        ],
        [
         "22",
         "Radial Velocity",
         "3",
         "4.215",
         "0.016",
         "8.52",
         "2009"
        ],
        [
         "23",
         "Radial Velocity",
         "3",
         "38.021",
         "0.057",
         "8.52",
         "2009"
        ],
        [
         "24",
         "Radial Velocity",
         "3",
         "123.01",
         "0.072",
         "8.52",
         "2009"
        ],
        [
         "25",
         "Radial Velocity",
         "1",
         "116.6884",
         null,
         "18.11",
         "1996"
        ],
        [
         "26",
         "Radial Velocity",
         "1",
         "691.9",
         null,
         "81.5",
         "2012"
        ],
        [
         "27",
         "Radial Velocity",
         "1",
         "952.7",
         "5.3",
         "97.18",
         "2008"
        ],
        [
         "28",
         "Radial Velocity",
         "1",
         "181.4",
         "3.2",
         "45.52",
         "2013"
        ],
        [
         "29",
         "Imaging",
         "1",
         null,
         null,
         "45.52",
         "2005"
        ],
        [
         "30",
         "Imaging",
         "1",
         null,
         null,
         "165.0",
         "2007"
        ],
        [
         "31",
         "Imaging",
         "1",
         null,
         null,
         "140.0",
         "2004"
        ],
        [
         "32",
         "Eclipse Timing Variations",
         "1",
         "10220.0",
         "6.05",
         null,
         "2009"
        ],
        [
         "33",
         "Imaging",
         "1",
         null,
         null,
         null,
         "2008"
        ],
        [
         "34",
         "Imaging",
         "1",
         null,
         null,
         "145.0",
         "2013"
        ],
        [
         "35",
         "Imaging",
         "1",
         null,
         null,
         "139.0",
         "2004"
        ],
        [
         "36",
         "Imaging",
         "1",
         null,
         null,
         "18.39",
         "2006"
        ],
        [
         "37",
         "Eclipse Timing Variations",
         "2",
         "5767.0",
         null,
         "130.72",
         "2008"
        ],
        [
         "38",
         "Eclipse Timing Variations",
         "2",
         "3321.0",
         null,
         "130.72",
         "2008"
        ],
        [
         "39",
         "Eclipse Timing Variations",
         "2",
         "5573.55",
         null,
         "500.0",
         "2010"
        ],
        [
         "40",
         "Eclipse Timing Variations",
         "2",
         "2883.5",
         null,
         "500.0",
         "2010"
        ],
        [
         "41",
         "Eclipse Timing Variations",
         "1",
         "2900.0",
         null,
         null,
         "2011"
        ],
        [
         "42",
         "Eclipse Timing Variations",
         "1",
         "4343.5",
         "4.2",
         null,
         "2012"
        ],
        [
         "43",
         "Eclipse Timing Variations",
         "2",
         "5840.0",
         null,
         null,
         "2011"
        ],
        [
         "44",
         "Eclipse Timing Variations",
         "2",
         "1916.25",
         null,
         null,
         "2011"
        ],
        [
         "45",
         "Radial Velocity",
         "1",
         "380.8",
         "1.8",
         "20.21",
         "2010"
        ],
        [
         "46",
         "Radial Velocity",
         "1",
         "3.2357",
         "0.0036",
         "1.35",
         "2012"
        ],
        [
         "47",
         "Imaging",
         "1",
         "6000.0",
         null,
         "19.28",
         "2008"
        ],
        [
         "48",
         "Radial Velocity",
         "1",
         "2502.0",
         "1.55",
         "3.22",
         "2000"
        ],
        [
         "49",
         "Radial Velocity",
         "1",
         "417.9",
         null,
         "70.42",
         "2012"
        ]
       ],
       "shape": {
        "columns": 6,
        "rows": 1035
       }
      },
      "text/html": [
       "<div>\n",
       "<style scoped>\n",
       "    .dataframe tbody tr th:only-of-type {\n",
       "        vertical-align: middle;\n",
       "    }\n",
       "\n",
       "    .dataframe tbody tr th {\n",
       "        vertical-align: top;\n",
       "    }\n",
       "\n",
       "    .dataframe thead th {\n",
       "        text-align: right;\n",
       "    }\n",
       "</style>\n",
       "<table border=\"1\" class=\"dataframe\">\n",
       "  <thead>\n",
       "    <tr style=\"text-align: right;\">\n",
       "      <th></th>\n",
       "      <th>method</th>\n",
       "      <th>number</th>\n",
       "      <th>orbital_period</th>\n",
       "      <th>mass</th>\n",
       "      <th>distance</th>\n",
       "      <th>year</th>\n",
       "    </tr>\n",
       "  </thead>\n",
       "  <tbody>\n",
       "    <tr>\n",
       "      <th>0</th>\n",
       "      <td>Radial Velocity</td>\n",
       "      <td>1</td>\n",
       "      <td>269.300000</td>\n",
       "      <td>7.10</td>\n",
       "      <td>77.40</td>\n",
       "      <td>2006</td>\n",
       "    </tr>\n",
       "    <tr>\n",
       "      <th>1</th>\n",
       "      <td>Radial Velocity</td>\n",
       "      <td>1</td>\n",
       "      <td>874.774000</td>\n",
       "      <td>2.21</td>\n",
       "      <td>56.95</td>\n",
       "      <td>2008</td>\n",
       "    </tr>\n",
       "    <tr>\n",
       "      <th>2</th>\n",
       "      <td>Radial Velocity</td>\n",
       "      <td>1</td>\n",
       "      <td>763.000000</td>\n",
       "      <td>2.60</td>\n",
       "      <td>19.84</td>\n",
       "      <td>2011</td>\n",
       "    </tr>\n",
       "    <tr>\n",
       "      <th>3</th>\n",
       "      <td>Radial Velocity</td>\n",
       "      <td>1</td>\n",
       "      <td>326.030000</td>\n",
       "      <td>19.40</td>\n",
       "      <td>110.62</td>\n",
       "      <td>2007</td>\n",
       "    </tr>\n",
       "    <tr>\n",
       "      <th>4</th>\n",
       "      <td>Radial Velocity</td>\n",
       "      <td>1</td>\n",
       "      <td>516.220000</td>\n",
       "      <td>10.50</td>\n",
       "      <td>119.47</td>\n",
       "      <td>2009</td>\n",
       "    </tr>\n",
       "    <tr>\n",
       "      <th>...</th>\n",
       "      <td>...</td>\n",
       "      <td>...</td>\n",
       "      <td>...</td>\n",
       "      <td>...</td>\n",
       "      <td>...</td>\n",
       "      <td>...</td>\n",
       "    </tr>\n",
       "    <tr>\n",
       "      <th>1030</th>\n",
       "      <td>Transit</td>\n",
       "      <td>1</td>\n",
       "      <td>3.941507</td>\n",
       "      <td>NaN</td>\n",
       "      <td>172.00</td>\n",
       "      <td>2006</td>\n",
       "    </tr>\n",
       "    <tr>\n",
       "      <th>1031</th>\n",
       "      <td>Transit</td>\n",
       "      <td>1</td>\n",
       "      <td>2.615864</td>\n",
       "      <td>NaN</td>\n",
       "      <td>148.00</td>\n",
       "      <td>2007</td>\n",
       "    </tr>\n",
       "    <tr>\n",
       "      <th>1032</th>\n",
       "      <td>Transit</td>\n",
       "      <td>1</td>\n",
       "      <td>3.191524</td>\n",
       "      <td>NaN</td>\n",
       "      <td>174.00</td>\n",
       "      <td>2007</td>\n",
       "    </tr>\n",
       "    <tr>\n",
       "      <th>1033</th>\n",
       "      <td>Transit</td>\n",
       "      <td>1</td>\n",
       "      <td>4.125083</td>\n",
       "      <td>NaN</td>\n",
       "      <td>293.00</td>\n",
       "      <td>2008</td>\n",
       "    </tr>\n",
       "    <tr>\n",
       "      <th>1034</th>\n",
       "      <td>Transit</td>\n",
       "      <td>1</td>\n",
       "      <td>4.187757</td>\n",
       "      <td>NaN</td>\n",
       "      <td>260.00</td>\n",
       "      <td>2008</td>\n",
       "    </tr>\n",
       "  </tbody>\n",
       "</table>\n",
       "<p>1035 rows × 6 columns</p>\n",
       "</div>"
      ],
      "text/plain": [
       "               method  number  orbital_period   mass  distance  year\n",
       "0     Radial Velocity       1      269.300000   7.10     77.40  2006\n",
       "1     Radial Velocity       1      874.774000   2.21     56.95  2008\n",
       "2     Radial Velocity       1      763.000000   2.60     19.84  2011\n",
       "3     Radial Velocity       1      326.030000  19.40    110.62  2007\n",
       "4     Radial Velocity       1      516.220000  10.50    119.47  2009\n",
       "...               ...     ...             ...    ...       ...   ...\n",
       "1030          Transit       1        3.941507    NaN    172.00  2006\n",
       "1031          Transit       1        2.615864    NaN    148.00  2007\n",
       "1032          Transit       1        3.191524    NaN    174.00  2007\n",
       "1033          Transit       1        4.125083    NaN    293.00  2008\n",
       "1034          Transit       1        4.187757    NaN    260.00  2008\n",
       "\n",
       "[1035 rows x 6 columns]"
      ]
     },
     "execution_count": 7,
     "metadata": {},
     "output_type": "execute_result"
    }
   ],
   "source": [
    "df=sns.load_dataset('planets')\n",
    "df"
   ]
  },
  {
   "cell_type": "code",
   "execution_count": 9,
   "id": "b96b40f6",
   "metadata": {},
   "outputs": [
    {
     "data": {
      "application/vnd.microsoft.datawrangler.viewer.v0+json": {
       "columns": [
        {
         "name": "index",
         "rawType": "object",
         "type": "string"
        },
        {
         "name": "0",
         "rawType": "int64",
         "type": "integer"
        }
       ],
       "ref": "7eb61a50-c86f-4819-9ad5-d0a46e71eb9a",
       "rows": [
        [
         "mass",
         "522"
        ],
        [
         "distance",
         "227"
        ],
        [
         "orbital_period",
         "43"
        ],
        [
         "method",
         "0"
        ],
        [
         "number",
         "0"
        ],
        [
         "year",
         "0"
        ]
       ],
       "shape": {
        "columns": 1,
        "rows": 6
       }
      },
      "text/plain": [
       "mass              522\n",
       "distance          227\n",
       "orbital_period     43\n",
       "method              0\n",
       "number              0\n",
       "year                0\n",
       "dtype: int64"
      ]
     },
     "execution_count": 9,
     "metadata": {},
     "output_type": "execute_result"
    }
   ],
   "source": [
    "#shwoing null\n",
    "df.isnull().sum().sort_values(ascending=False)"
   ]
  },
  {
   "cell_type": "code",
   "execution_count": 10,
   "id": "488ff8e9",
   "metadata": {},
   "outputs": [
    {
     "data": {
      "application/vnd.microsoft.datawrangler.viewer.v0+json": {
       "columns": [
        {
         "name": "index",
         "rawType": "int64",
         "type": "integer"
        },
        {
         "name": "method",
         "rawType": "object",
         "type": "string"
        },
        {
         "name": "number",
         "rawType": "float64",
         "type": "float"
        },
        {
         "name": "orbital_period",
         "rawType": "float64",
         "type": "float"
        },
        {
         "name": "mass",
         "rawType": "float64",
         "type": "float"
        },
        {
         "name": "distance",
         "rawType": "float64",
         "type": "float"
        },
        {
         "name": "year",
         "rawType": "float64",
         "type": "float"
        }
       ],
       "ref": "52136a9b-b400-48e9-8413-b6563163da9b",
       "rows": [
        [
         "0",
         "Radial Velocity",
         "1.0",
         "269.3",
         "7.1",
         "77.4",
         "2006.0"
        ],
        [
         "1",
         "Radial Velocity",
         "1.0",
         "874.774",
         "2.21",
         "56.95",
         "2008.0"
        ],
        [
         "2",
         "Radial Velocity",
         "1.0",
         "763.0",
         "2.6",
         "19.84",
         "2011.0"
        ],
        [
         "3",
         "Radial Velocity",
         "1.0",
         "326.03",
         "19.4",
         "110.62",
         "2007.0"
        ],
        [
         "4",
         "Radial Velocity",
         "1.0",
         "516.22",
         "10.5",
         "119.47",
         "2009.0"
        ],
        [
         "5",
         "Radial Velocity",
         "1.0",
         "185.84",
         "4.8",
         "76.39",
         "2008.0"
        ],
        [
         "6",
         "Radial Velocity",
         "1.0",
         "1773.4",
         "4.64",
         "18.15",
         "2002.0"
        ],
        [
         "7",
         "Radial Velocity",
         "1.0",
         "798.5",
         "2.6381605847953216",
         "21.41",
         "1996.0"
        ],
        [
         "8",
         "Radial Velocity",
         "1.0",
         "993.3",
         "10.3",
         "73.1",
         "2008.0"
        ],
        [
         "9",
         "Radial Velocity",
         "2.0",
         "452.8",
         "1.99",
         "74.79",
         "2010.0"
        ],
        [
         "10",
         "Radial Velocity",
         "2.0",
         "883.0",
         "0.86",
         "74.79",
         "2010.0"
        ],
        [
         "11",
         "Radial Velocity",
         "1.0",
         "335.1",
         "9.88",
         "39.43",
         "2009.0"
        ],
        [
         "12",
         "Radial Velocity",
         "1.0",
         "479.1",
         "3.88",
         "97.28",
         "2008.0"
        ],
        [
         "13",
         "Radial Velocity",
         "3.0",
         "1078.0",
         "2.53",
         "14.08",
         "1996.0"
        ],
        [
         "14",
         "Radial Velocity",
         "3.0",
         "2391.0",
         "0.54",
         "14.08",
         "2001.0"
        ],
        [
         "15",
         "Radial Velocity",
         "3.0",
         "14002.0",
         "1.64",
         "14.08",
         "2009.0"
        ],
        [
         "16",
         "Radial Velocity",
         "1.0",
         "4.230785",
         "0.472",
         "15.36",
         "1995.0"
        ],
        [
         "17",
         "Radial Velocity",
         "5.0",
         "14.651",
         "0.8",
         "12.53",
         "1996.0"
        ],
        [
         "18",
         "Radial Velocity",
         "5.0",
         "44.38",
         "0.165",
         "12.53",
         "2004.0"
        ],
        [
         "19",
         "Radial Velocity",
         "5.0",
         "4909.0",
         "3.53",
         "12.53",
         "2002.0"
        ],
        [
         "20",
         "Radial Velocity",
         "5.0",
         "0.73654",
         "2.6381605847953216",
         "12.53",
         "2011.0"
        ],
        [
         "21",
         "Radial Velocity",
         "5.0",
         "261.2",
         "0.172",
         "12.53",
         "2007.0"
        ],
        [
         "22",
         "Radial Velocity",
         "3.0",
         "4.215",
         "0.016",
         "8.52",
         "2009.0"
        ],
        [
         "23",
         "Radial Velocity",
         "3.0",
         "38.021",
         "0.057",
         "8.52",
         "2009.0"
        ],
        [
         "24",
         "Radial Velocity",
         "3.0",
         "123.01",
         "0.072",
         "8.52",
         "2009.0"
        ],
        [
         "25",
         "Radial Velocity",
         "1.0",
         "116.6884",
         "2.6381605847953216",
         "18.11",
         "1996.0"
        ],
        [
         "26",
         "Radial Velocity",
         "1.0",
         "691.9",
         "2.6381605847953216",
         "81.5",
         "2012.0"
        ],
        [
         "27",
         "Radial Velocity",
         "1.0",
         "952.7",
         "5.3",
         "97.18",
         "2008.0"
        ],
        [
         "28",
         "Radial Velocity",
         "1.0",
         "181.4",
         "3.2",
         "45.52",
         "2013.0"
        ],
        [
         "29",
         "Imaging",
         "1.0",
         "2002.9175960947582",
         "2.6381605847953216",
         "45.52",
         "2005.0"
        ],
        [
         "30",
         "Imaging",
         "1.0",
         "2002.9175960947582",
         "2.6381605847953216",
         "165.0",
         "2007.0"
        ],
        [
         "31",
         "Imaging",
         "1.0",
         "2002.9175960947582",
         "2.6381605847953216",
         "140.0",
         "2004.0"
        ],
        [
         "32",
         "Eclipse Timing Variations",
         "1.0",
         "10220.0",
         "6.05",
         "264.06928217821786",
         "2009.0"
        ],
        [
         "33",
         "Imaging",
         "1.0",
         "2002.9175960947582",
         "2.6381605847953216",
         "264.06928217821786",
         "2008.0"
        ],
        [
         "34",
         "Imaging",
         "1.0",
         "2002.9175960947582",
         "2.6381605847953216",
         "145.0",
         "2013.0"
        ],
        [
         "35",
         "Imaging",
         "1.0",
         "2002.9175960947582",
         "2.6381605847953216",
         "139.0",
         "2004.0"
        ],
        [
         "36",
         "Imaging",
         "1.0",
         "2002.9175960947582",
         "2.6381605847953216",
         "18.39",
         "2006.0"
        ],
        [
         "37",
         "Eclipse Timing Variations",
         "2.0",
         "5767.0",
         "2.6381605847953216",
         "130.72",
         "2008.0"
        ],
        [
         "38",
         "Eclipse Timing Variations",
         "2.0",
         "3321.0",
         "2.6381605847953216",
         "130.72",
         "2008.0"
        ],
        [
         "39",
         "Eclipse Timing Variations",
         "2.0",
         "5573.55",
         "2.6381605847953216",
         "500.0",
         "2010.0"
        ],
        [
         "40",
         "Eclipse Timing Variations",
         "2.0",
         "2883.5",
         "2.6381605847953216",
         "500.0",
         "2010.0"
        ],
        [
         "41",
         "Eclipse Timing Variations",
         "1.0",
         "2900.0",
         "2.6381605847953216",
         "264.06928217821786",
         "2011.0"
        ],
        [
         "42",
         "Eclipse Timing Variations",
         "1.0",
         "4343.5",
         "4.2",
         "264.06928217821786",
         "2012.0"
        ],
        [
         "43",
         "Eclipse Timing Variations",
         "2.0",
         "5840.0",
         "2.6381605847953216",
         "264.06928217821786",
         "2011.0"
        ],
        [
         "44",
         "Eclipse Timing Variations",
         "2.0",
         "1916.25",
         "2.6381605847953216",
         "264.06928217821786",
         "2011.0"
        ],
        [
         "45",
         "Radial Velocity",
         "1.0",
         "380.8",
         "1.8",
         "20.21",
         "2010.0"
        ],
        [
         "46",
         "Radial Velocity",
         "1.0",
         "3.2357",
         "0.0036",
         "1.35",
         "2012.0"
        ],
        [
         "47",
         "Imaging",
         "1.0",
         "6000.0",
         "2.6381605847953216",
         "19.28",
         "2008.0"
        ],
        [
         "48",
         "Radial Velocity",
         "1.0",
         "2502.0",
         "1.55",
         "3.22",
         "2000.0"
        ],
        [
         "49",
         "Radial Velocity",
         "1.0",
         "417.9",
         "2.6381605847953216",
         "70.42",
         "2012.0"
        ]
       ],
       "shape": {
        "columns": 6,
        "rows": 1035
       }
      },
      "text/html": [
       "<div>\n",
       "<style scoped>\n",
       "    .dataframe tbody tr th:only-of-type {\n",
       "        vertical-align: middle;\n",
       "    }\n",
       "\n",
       "    .dataframe tbody tr th {\n",
       "        vertical-align: top;\n",
       "    }\n",
       "\n",
       "    .dataframe thead th {\n",
       "        text-align: right;\n",
       "    }\n",
       "</style>\n",
       "<table border=\"1\" class=\"dataframe\">\n",
       "  <thead>\n",
       "    <tr style=\"text-align: right;\">\n",
       "      <th></th>\n",
       "      <th>method</th>\n",
       "      <th>number</th>\n",
       "      <th>orbital_period</th>\n",
       "      <th>mass</th>\n",
       "      <th>distance</th>\n",
       "      <th>year</th>\n",
       "    </tr>\n",
       "  </thead>\n",
       "  <tbody>\n",
       "    <tr>\n",
       "      <th>0</th>\n",
       "      <td>Radial Velocity</td>\n",
       "      <td>1.0</td>\n",
       "      <td>269.300000</td>\n",
       "      <td>7.100000</td>\n",
       "      <td>77.40</td>\n",
       "      <td>2006.0</td>\n",
       "    </tr>\n",
       "    <tr>\n",
       "      <th>1</th>\n",
       "      <td>Radial Velocity</td>\n",
       "      <td>1.0</td>\n",
       "      <td>874.774000</td>\n",
       "      <td>2.210000</td>\n",
       "      <td>56.95</td>\n",
       "      <td>2008.0</td>\n",
       "    </tr>\n",
       "    <tr>\n",
       "      <th>2</th>\n",
       "      <td>Radial Velocity</td>\n",
       "      <td>1.0</td>\n",
       "      <td>763.000000</td>\n",
       "      <td>2.600000</td>\n",
       "      <td>19.84</td>\n",
       "      <td>2011.0</td>\n",
       "    </tr>\n",
       "    <tr>\n",
       "      <th>3</th>\n",
       "      <td>Radial Velocity</td>\n",
       "      <td>1.0</td>\n",
       "      <td>326.030000</td>\n",
       "      <td>19.400000</td>\n",
       "      <td>110.62</td>\n",
       "      <td>2007.0</td>\n",
       "    </tr>\n",
       "    <tr>\n",
       "      <th>4</th>\n",
       "      <td>Radial Velocity</td>\n",
       "      <td>1.0</td>\n",
       "      <td>516.220000</td>\n",
       "      <td>10.500000</td>\n",
       "      <td>119.47</td>\n",
       "      <td>2009.0</td>\n",
       "    </tr>\n",
       "    <tr>\n",
       "      <th>...</th>\n",
       "      <td>...</td>\n",
       "      <td>...</td>\n",
       "      <td>...</td>\n",
       "      <td>...</td>\n",
       "      <td>...</td>\n",
       "      <td>...</td>\n",
       "    </tr>\n",
       "    <tr>\n",
       "      <th>1030</th>\n",
       "      <td>Transit</td>\n",
       "      <td>1.0</td>\n",
       "      <td>3.941507</td>\n",
       "      <td>2.638161</td>\n",
       "      <td>172.00</td>\n",
       "      <td>2006.0</td>\n",
       "    </tr>\n",
       "    <tr>\n",
       "      <th>1031</th>\n",
       "      <td>Transit</td>\n",
       "      <td>1.0</td>\n",
       "      <td>2.615864</td>\n",
       "      <td>2.638161</td>\n",
       "      <td>148.00</td>\n",
       "      <td>2007.0</td>\n",
       "    </tr>\n",
       "    <tr>\n",
       "      <th>1032</th>\n",
       "      <td>Transit</td>\n",
       "      <td>1.0</td>\n",
       "      <td>3.191524</td>\n",
       "      <td>2.638161</td>\n",
       "      <td>174.00</td>\n",
       "      <td>2007.0</td>\n",
       "    </tr>\n",
       "    <tr>\n",
       "      <th>1033</th>\n",
       "      <td>Transit</td>\n",
       "      <td>1.0</td>\n",
       "      <td>4.125083</td>\n",
       "      <td>2.638161</td>\n",
       "      <td>293.00</td>\n",
       "      <td>2008.0</td>\n",
       "    </tr>\n",
       "    <tr>\n",
       "      <th>1034</th>\n",
       "      <td>Transit</td>\n",
       "      <td>1.0</td>\n",
       "      <td>4.187757</td>\n",
       "      <td>2.638161</td>\n",
       "      <td>260.00</td>\n",
       "      <td>2008.0</td>\n",
       "    </tr>\n",
       "  </tbody>\n",
       "</table>\n",
       "<p>1035 rows × 6 columns</p>\n",
       "</div>"
      ],
      "text/plain": [
       "               method  number  orbital_period       mass  distance    year\n",
       "0     Radial Velocity     1.0      269.300000   7.100000     77.40  2006.0\n",
       "1     Radial Velocity     1.0      874.774000   2.210000     56.95  2008.0\n",
       "2     Radial Velocity     1.0      763.000000   2.600000     19.84  2011.0\n",
       "3     Radial Velocity     1.0      326.030000  19.400000    110.62  2007.0\n",
       "4     Radial Velocity     1.0      516.220000  10.500000    119.47  2009.0\n",
       "...               ...     ...             ...        ...       ...     ...\n",
       "1030          Transit     1.0        3.941507   2.638161    172.00  2006.0\n",
       "1031          Transit     1.0        2.615864   2.638161    148.00  2007.0\n",
       "1032          Transit     1.0        3.191524   2.638161    174.00  2007.0\n",
       "1033          Transit     1.0        4.125083   2.638161    293.00  2008.0\n",
       "1034          Transit     1.0        4.187757   2.638161    260.00  2008.0\n",
       "\n",
       "[1035 rows x 6 columns]"
      ]
     },
     "execution_count": 10,
     "metadata": {},
     "output_type": "execute_result"
    }
   ],
   "source": [
    "#Predicting missing values using sklearn\n",
    "numeric_cols=['mass','distance','orbital_period','year','number']\n",
    "\n",
    "imputer=SimpleImputer(missing_values=np.nan,strategy='mean')\n",
    "df[numeric_cols]=imputer.fit_transform(df[numeric_cols])\n",
    "df\n"
   ]
  },
  {
   "cell_type": "code",
   "execution_count": 11,
   "id": "f27523e2",
   "metadata": {},
   "outputs": [
    {
     "data": {
      "application/vnd.microsoft.datawrangler.viewer.v0+json": {
       "columns": [
        {
         "name": "index",
         "rawType": "int64",
         "type": "integer"
        },
        {
         "name": "method",
         "rawType": "object",
         "type": "string"
        },
        {
         "name": "number",
         "rawType": "float64",
         "type": "float"
        },
        {
         "name": "orbital_period",
         "rawType": "float64",
         "type": "float"
        },
        {
         "name": "mass",
         "rawType": "float64",
         "type": "float"
        },
        {
         "name": "distance",
         "rawType": "float64",
         "type": "float"
        },
        {
         "name": "year",
         "rawType": "float64",
         "type": "float"
        }
       ],
       "ref": "75ab0413-bd26-41ce-b1f8-cd6b9da81f66",
       "rows": [
        [
         "0",
         "Radial Velocity",
         "-0.6332812909133281",
         "-0.06810317502283061",
         "1.6612808853340044",
         "-0.28835884347235596",
         "-0.7733075202135452"
        ],
        [
         "1",
         "Radial Velocity",
         "-0.6332812909133281",
         "-0.04431782473182014",
         "-0.15941743509414683",
         "-0.3199491419949577",
         "-0.2696113066068771"
        ],
        [
         "2",
         "Radial Velocity",
         "-0.6332812909133281",
         "-0.04870873787330499",
         "-0.014208366593742059",
         "-0.37727510669783054",
         "0.48593301380312515"
        ],
        [
         "3",
         "Radial Velocity",
         "-0.6332812909133281",
         "-0.06587460216584745",
         "6.240951507269845",
         "-0.23704198689921027",
         "-0.5214594134102112"
        ],
        [
         "4",
         "Radial Velocity",
         "-0.6332812909133281",
         "-0.05840320657851045",
         "2.927206097901635",
         "-0.22337087971461245",
         "-0.01776319980354303"
        ],
        [
         "5",
         "Radial Velocity",
         "-0.6332812909133281",
         "-0.07138180521221568",
         "0.8049197121264896",
         "-0.2899190489250615",
         "-0.2696113066068771"
        ],
        [
         "6",
         "Radial Velocity",
         "-0.6332812909133281",
         "-0.009016335005408127",
         "0.7453467609468363",
         "-0.37988574750483284",
         "-1.7806999474268816"
        ],
        [
         "7",
         "Radial Velocity",
         "-0.6332812909133281",
         "-0.04731416116921717",
         "-1.6534815511130347e-16",
         "-0.37484983683570416",
         "-3.2917885882468862"
        ],
        [
         "8",
         "Radial Velocity",
         "-0.6332812909133281",
         "-0.03966166702960285",
         "2.8527399089270693",
         "-0.29500130233040917",
         "-0.2696113066068771"
        ],
        [
         "9",
         "Radial Velocity",
         "0.1729255185519789",
         "-0.06089458839747523",
         "-0.24133024296616998",
         "-0.2923906615234068",
         "0.23408490699979104"
        ],
        [
         "10",
         "Radial Velocity",
         "0.1729255185519789",
         "-0.04399467577497995",
         "-0.6620642106724709",
         "-0.2923906615234068",
         "0.23408490699979104"
        ],
        [
         "11",
         "Radial Velocity",
         "-0.6332812909133281",
         "-0.06551829763891572",
         "2.6963609120804795",
         "-0.3470132999468395",
         "-0.01776319980354303"
        ],
        [
         "12",
         "Radial Velocity",
         "-0.6332812909133281",
         "-0.05986142312092566",
         "0.46237524284348364",
         "-0.2576490569379148",
         "-0.2696113066068771"
        ],
        [
         "13",
         "Radial Velocity",
         "0.979132328017286",
         "-0.03633432486520176",
         "-0.040271532734840444",
         "-0.3861729120518739",
         "-3.2917885882468862"
        ],
        [
         "14",
         "Radial Velocity",
         "0.979132328017286",
         "0.015245371260638092",
         "-0.7812101130317772",
         "-0.3861729120518739",
         "-2.0325480542302157"
        ],
        [
         "15",
         "Radial Velocity",
         "0.979132328017286",
         "0.47137016312440544",
         "-0.3716460736716614",
         "-0.3861729120518739",
         "-0.01776319980354303"
        ],
        [
         "16",
         "Radial Velocity",
         "-0.6332812909133281",
         "-0.07851611452169954",
         "-0.8065286172831299",
         "-0.38419562197319757",
         "-3.5436366950502203"
        ],
        [
         "17",
         "Radial Velocity",
         "2.5915459469479",
         "-0.07810676835013372",
         "-0.6844040673648408",
         "-0.38856728675652097",
         "-3.2917885882468862"
        ],
        [
         "18",
         "Radial Velocity",
         "2.5915459469479",
         "-0.0769388987491245",
         "-0.9208342173590894",
         "-0.38856728675652097",
         "-1.2770037338202134"
        ],
        [
         "19",
         "Radial Velocity",
         "2.5915459469479",
         "0.11416210762382525",
         "0.33205941213799217",
         "-0.38856728675652097",
         "-1.7806999474268816"
        ],
        [
         "20",
         "Radial Velocity",
         "2.5915459469479",
         "-0.07865338192100589",
         "-1.6534815511130347e-16",
         "-0.38856728675652097",
         "0.48593301380312515"
        ],
        [
         "21",
         "Radial Velocity",
         "2.5915459469479",
         "-0.06842137421446755",
         "-0.9182279007449796",
         "-0.38856728675652097",
         "-0.5214594134102112"
        ],
        [
         "22",
         "Radial Velocity",
         "0.979132328017286",
         "-0.07851673461728473",
         "-0.9763115281451415",
         "-0.39476176583112405",
         "-0.01776319980354303"
        ],
        [
         "23",
         "Radial Velocity",
         "0.979132328017286",
         "-0.07718870475648493",
         "-0.9610459594053554",
         "-0.39476176583112405",
         "-0.01776319980354303"
        ],
        [
         "24",
         "Radial Velocity",
         "0.979132328017286",
         "-0.07385000955919703",
         "-0.9554609952322629",
         "-0.39476176583112405",
         "-0.01776319980354303"
        ],
        [
         "25",
         "Radial Velocity",
         "-0.6332812909133281",
         "-0.07409834635053679",
         "-1.6534815511130347e-16",
         "-0.37994753781979146",
         "-3.2917885882468862"
        ],
        [
         "26",
         "Radial Velocity",
         "-0.6332812909133281",
         "-0.05150181966656258",
         "-1.6534815511130347e-16",
         "-0.282025336189096",
         "0.7377811206064592"
        ],
        [
         "27",
         "Radial Velocity",
         "-0.6332812909133281",
         "-0.04125659137286949",
         "0.9910851845629058",
         "-0.25780353272531137",
         "-0.2696113066068771"
        ],
        [
         "28",
         "Radial Velocity",
         "-0.6332812909133281",
         "-0.0715562255098537",
         "0.20919020032995755",
         "-0.3376057244943874",
         "0.9896292274097933"
        ],
        [
         "29",
         "Imaging",
         "-0.6332812909133281",
         "0.0",
         "-1.6534815511130347e-16",
         "-0.3376057244943874",
         "-1.0251556270168793"
        ],
        [
         "30",
         "Imaging",
         "-0.6332812909133281",
         "0.0",
         "-1.6534815511130347e-16",
         "-0.1530380537129471",
         "-0.5214594134102112"
        ],
        [
         "31",
         "Imaging",
         "-0.6332812909133281",
         "0.0",
         "-1.6534815511130347e-16",
         "-0.19165700056209345",
         "-1.2770037338202134"
        ],
        [
         "32",
         "Eclipse Timing Variations",
         "-0.6332812909133281",
         "0.3227986393255278",
         "1.2703333932175302",
         "8.780931886837237e-17",
         "-0.01776319980354303"
        ],
        [
         "33",
         "Imaging",
         "-0.6332812909133281",
         "0.0",
         "-1.6534815511130347e-16",
         "8.780931886837237e-17",
         "-0.2696113066068771"
        ],
        [
         "34",
         "Imaging",
         "-0.6332812909133281",
         "0.0",
         "-1.6534815511130347e-16",
         "-0.1839332111922642",
         "0.9896292274097933"
        ],
        [
         "35",
         "Imaging",
         "-0.6332812909133281",
         "0.0",
         "-1.6534815511130347e-16",
         "-0.1932017584360593",
         "-1.2770037338202134"
        ],
        [
         "36",
         "Imaging",
         "-0.6332812909133281",
         "0.0",
         "-1.6534815511130347e-16",
         "-0.37951500561508106",
         "-0.7733075202135452"
        ],
        [
         "37",
         "Eclipse Timing Variations",
         "0.1729255185519789",
         "0.1478676516268493",
         "-1.6534815511130347e-16",
         "-0.2059923536324966",
         "-0.2696113066068771"
        ],
        [
         "38",
         "Eclipse Timing Variations",
         "0.1729255185519789",
         "0.051779352522657175",
         "-1.6534815511130347e-16",
         "-0.2059923536324966",
         "-0.2696113066068771"
        ],
        [
         "39",
         "Eclipse Timing Variations",
         "0.1729255185519789",
         "0.14026819068584115",
         "-1.6534815511130347e-16",
         "0.36445583406561427",
         "0.23408490699979104"
        ],
        [
         "40",
         "Eclipse Timing Variations",
         "0.1729255185519789",
         "0.03459266778918046",
         "-1.6534815511130347e-16",
         "0.36445583406561427",
         "0.23408490699979104"
        ],
        [
         "41",
         "Eclipse Timing Variations",
         "-0.6332812909133281",
         "0.03524085132770015",
         "-1.6534815511130347e-16",
         "8.780931886837237e-17",
         "0.48593301380312515"
        ],
        [
         "42",
         "Eclipse Timing Variations",
         "-0.6332812909133281",
         "0.09194708998546848",
         "0.5815211452027902",
         "8.780931886837237e-17",
         "0.7377811206064592"
        ],
        [
         "43",
         "Eclipse Timing Variations",
         "0.1729255185519789",
         "0.1507353727366637",
         "-1.6534815511130347e-16",
         "8.780931886837237e-17",
         "0.48593301380312515"
        ],
        [
         "44",
         "Eclipse Timing Variations",
         "0.1729255185519789",
         "-0.00340463691586036",
         "-1.6534815511130347e-16",
         "8.780931886837237e-17",
         "0.48593301380312515"
        ],
        [
         "45",
         "Radial Velocity",
         "-0.6332812909133281",
         "-0.06372302565647026",
         "-0.3120731224920082",
         "-0.3767035462844632",
         "0.23408490699979104"
        ],
        [
         "46",
         "Radial Velocity",
         "-0.6332812909133281",
         "-0.07855520529239214",
         "-0.9809284318615646",
         "-0.4058376797874592",
         "0.7377811206064592"
        ],
        [
         "47",
         "Imaging",
         "-0.6332812909133281",
         "0.15702078886776377",
         "-1.6534815511130347e-16",
         "-0.37814017110725145",
         "-0.2696113066068771"
        ],
        [
         "48",
         "Radial Velocity",
         "-0.6332812909133281",
         "0.019605878701588756",
         "-0.4051558587102163",
         "-0.40294898256314304",
         "-2.2843961610335497"
        ],
        [
         "49",
         "Radial Velocity",
         "-0.6332812909133281",
         "-0.062265594791071424",
         "-1.6534815511130347e-16",
         "-0.2991412534326376",
         "0.7377811206064592"
        ]
       ],
       "shape": {
        "columns": 6,
        "rows": 1035
       }
      },
      "text/html": [
       "<div>\n",
       "<style scoped>\n",
       "    .dataframe tbody tr th:only-of-type {\n",
       "        vertical-align: middle;\n",
       "    }\n",
       "\n",
       "    .dataframe tbody tr th {\n",
       "        vertical-align: top;\n",
       "    }\n",
       "\n",
       "    .dataframe thead th {\n",
       "        text-align: right;\n",
       "    }\n",
       "</style>\n",
       "<table border=\"1\" class=\"dataframe\">\n",
       "  <thead>\n",
       "    <tr style=\"text-align: right;\">\n",
       "      <th></th>\n",
       "      <th>method</th>\n",
       "      <th>number</th>\n",
       "      <th>orbital_period</th>\n",
       "      <th>mass</th>\n",
       "      <th>distance</th>\n",
       "      <th>year</th>\n",
       "    </tr>\n",
       "  </thead>\n",
       "  <tbody>\n",
       "    <tr>\n",
       "      <th>0</th>\n",
       "      <td>Radial Velocity</td>\n",
       "      <td>-0.633281</td>\n",
       "      <td>-0.068103</td>\n",
       "      <td>1.661281e+00</td>\n",
       "      <td>-0.288359</td>\n",
       "      <td>-0.773308</td>\n",
       "    </tr>\n",
       "    <tr>\n",
       "      <th>1</th>\n",
       "      <td>Radial Velocity</td>\n",
       "      <td>-0.633281</td>\n",
       "      <td>-0.044318</td>\n",
       "      <td>-1.594174e-01</td>\n",
       "      <td>-0.319949</td>\n",
       "      <td>-0.269611</td>\n",
       "    </tr>\n",
       "    <tr>\n",
       "      <th>2</th>\n",
       "      <td>Radial Velocity</td>\n",
       "      <td>-0.633281</td>\n",
       "      <td>-0.048709</td>\n",
       "      <td>-1.420837e-02</td>\n",
       "      <td>-0.377275</td>\n",
       "      <td>0.485933</td>\n",
       "    </tr>\n",
       "    <tr>\n",
       "      <th>3</th>\n",
       "      <td>Radial Velocity</td>\n",
       "      <td>-0.633281</td>\n",
       "      <td>-0.065875</td>\n",
       "      <td>6.240952e+00</td>\n",
       "      <td>-0.237042</td>\n",
       "      <td>-0.521459</td>\n",
       "    </tr>\n",
       "    <tr>\n",
       "      <th>4</th>\n",
       "      <td>Radial Velocity</td>\n",
       "      <td>-0.633281</td>\n",
       "      <td>-0.058403</td>\n",
       "      <td>2.927206e+00</td>\n",
       "      <td>-0.223371</td>\n",
       "      <td>-0.017763</td>\n",
       "    </tr>\n",
       "    <tr>\n",
       "      <th>...</th>\n",
       "      <td>...</td>\n",
       "      <td>...</td>\n",
       "      <td>...</td>\n",
       "      <td>...</td>\n",
       "      <td>...</td>\n",
       "      <td>...</td>\n",
       "    </tr>\n",
       "    <tr>\n",
       "      <th>1030</th>\n",
       "      <td>Transit</td>\n",
       "      <td>-0.633281</td>\n",
       "      <td>-0.078527</td>\n",
       "      <td>-1.653482e-16</td>\n",
       "      <td>-0.142225</td>\n",
       "      <td>-0.773308</td>\n",
       "    </tr>\n",
       "    <tr>\n",
       "      <th>1031</th>\n",
       "      <td>Transit</td>\n",
       "      <td>-0.633281</td>\n",
       "      <td>-0.078580</td>\n",
       "      <td>-1.653482e-16</td>\n",
       "      <td>-0.179299</td>\n",
       "      <td>-0.521459</td>\n",
       "    </tr>\n",
       "    <tr>\n",
       "      <th>1032</th>\n",
       "      <td>Transit</td>\n",
       "      <td>-0.633281</td>\n",
       "      <td>-0.078557</td>\n",
       "      <td>-1.653482e-16</td>\n",
       "      <td>-0.139135</td>\n",
       "      <td>-0.521459</td>\n",
       "    </tr>\n",
       "    <tr>\n",
       "      <th>1033</th>\n",
       "      <td>Transit</td>\n",
       "      <td>-0.633281</td>\n",
       "      <td>-0.078520</td>\n",
       "      <td>-1.653482e-16</td>\n",
       "      <td>0.044691</td>\n",
       "      <td>-0.269611</td>\n",
       "    </tr>\n",
       "    <tr>\n",
       "      <th>1034</th>\n",
       "      <td>Transit</td>\n",
       "      <td>-0.633281</td>\n",
       "      <td>-0.078518</td>\n",
       "      <td>-1.653482e-16</td>\n",
       "      <td>-0.006286</td>\n",
       "      <td>-0.269611</td>\n",
       "    </tr>\n",
       "  </tbody>\n",
       "</table>\n",
       "<p>1035 rows × 6 columns</p>\n",
       "</div>"
      ],
      "text/plain": [
       "               method    number  orbital_period          mass  distance  \\\n",
       "0     Radial Velocity -0.633281       -0.068103  1.661281e+00 -0.288359   \n",
       "1     Radial Velocity -0.633281       -0.044318 -1.594174e-01 -0.319949   \n",
       "2     Radial Velocity -0.633281       -0.048709 -1.420837e-02 -0.377275   \n",
       "3     Radial Velocity -0.633281       -0.065875  6.240952e+00 -0.237042   \n",
       "4     Radial Velocity -0.633281       -0.058403  2.927206e+00 -0.223371   \n",
       "...               ...       ...             ...           ...       ...   \n",
       "1030          Transit -0.633281       -0.078527 -1.653482e-16 -0.142225   \n",
       "1031          Transit -0.633281       -0.078580 -1.653482e-16 -0.179299   \n",
       "1032          Transit -0.633281       -0.078557 -1.653482e-16 -0.139135   \n",
       "1033          Transit -0.633281       -0.078520 -1.653482e-16  0.044691   \n",
       "1034          Transit -0.633281       -0.078518 -1.653482e-16 -0.006286   \n",
       "\n",
       "          year  \n",
       "0    -0.773308  \n",
       "1    -0.269611  \n",
       "2     0.485933  \n",
       "3    -0.521459  \n",
       "4    -0.017763  \n",
       "...        ...  \n",
       "1030 -0.773308  \n",
       "1031 -0.521459  \n",
       "1032 -0.521459  \n",
       "1033 -0.269611  \n",
       "1034 -0.269611  \n",
       "\n",
       "[1035 rows x 6 columns]"
      ]
     },
     "execution_count": 11,
     "metadata": {},
     "output_type": "execute_result"
    }
   ],
   "source": [
    "#using standard scalar\n",
    "\n",
    "from sklearn.preprocessing import StandardScaler\n",
    "scaler=StandardScaler()\n",
    "df[numeric_cols]=scaler.fit_transform(df[numeric_cols])\n",
    "df"
   ]
  }
 ],
 "metadata": {
  "kernelspec": {
   "display_name": "base",
   "language": "python",
   "name": "python3"
  },
  "language_info": {
   "codemirror_mode": {
    "name": "ipython",
    "version": 3
   },
   "file_extension": ".py",
   "mimetype": "text/x-python",
   "name": "python",
   "nbconvert_exporter": "python",
   "pygments_lexer": "ipython3",
   "version": "3.12.7"
  }
 },
 "nbformat": 4,
 "nbformat_minor": 5
}
