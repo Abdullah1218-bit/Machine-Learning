{
 "cells": [
  {
   "cell_type": "markdown",
   "id": "969b79c7",
   "metadata": {},
   "source": [
    "# ***Finding The best Value of alpha***"
   ]
  },
  {
   "cell_type": "markdown",
   "id": "557ba0ee",
   "metadata": {},
   "source": [
    "# *GridSearchCV*"
   ]
  },
  {
   "cell_type": "code",
   "execution_count": 18,
   "id": "f440db1d",
   "metadata": {},
   "outputs": [],
   "source": [
    "import pandas as pd\n",
    "import numpy as np\n",
    "import seaborn as sns\n",
    "from sklearn import linear_model\n",
    "from sklearn.linear_model import Lasso,Ridge\n",
    "from sklearn.datasets import make_regression\n",
    "from sklearn.metrics import mean_squared_error, r2_score, mean_absolute_error, explained_variance_score\n",
    "from sklearn.model_selection import train_test_split\n",
    "df=sns.load_dataset('diamonds')\n"
   ]
  },
  {
   "cell_type": "code",
   "execution_count": 19,
   "id": "d0112ab7",
   "metadata": {},
   "outputs": [],
   "source": [
    "#Generate some regression data\n",
    "X,y=make_regression(n_samples=100,n_features=15,n_targets=1,random_state=0)\n",
    "\n",
    "#Split the data into training and testing sets\n",
    "X_train,X_test,y_train,y_test=train_test_split(X,y,random_state=0)\n",
    "\n",
    "#Create a linear regression model\n",
    "\n",
    "lr=linear_model.LinearRegression()\n",
    "lasso=Lasso(alpha=1)\n",
    "ridge=Ridge(alpha=1)\n",
    "\n",
    "\n",
    "#Train the models\n",
    "lr.fit(X_train,y_train)\n",
    "lasso.fit(X_train,y_train)\n",
    "ridge.fit(X_train,y_train)\n",
    "\n",
    "#Make predictions\n",
    "lr=lr.predict(X_test)\n",
    "lasso_pred=lasso.predict(X_test)\n",
    "ridge_pred=ridge.predict(X_test)"
   ]
  },
  {
   "cell_type": "markdown",
   "id": "9ba52118",
   "metadata": {},
   "source": [
    "# *For Lasso Regression*"
   ]
  },
  {
   "cell_type": "code",
   "execution_count": 20,
   "id": "3fd2b94f",
   "metadata": {},
   "outputs": [
    {
     "data": {
      "text/plain": [
       "{'alpha': 1.0}"
      ]
     },
     "execution_count": 20,
     "metadata": {},
     "output_type": "execute_result"
    }
   ],
   "source": [
    "from sklearn.model_selection import GridSearchCV\n",
    "\n",
    "\n",
    "#Create a linear regression model\n",
    "lasso=Lasso()\n",
    "\n",
    "#Create a dictionary of hyperparameters\n",
    "#arange is a NumPy function that generates a sequence of numbers from 1 to 10 with a step of 0.1\n",
    "parameters={'alpha':np.arange(1,10,0.1)} \n",
    "\n",
    "#n_jobs is the number of cores to use -1 means use all cores that can be risky\n",
    "\n",
    "#Create a GridSearchCV object\n",
    "lasso_cv=GridSearchCV(lasso,parameters,cv=5,n_jobs=-3)\n",
    "\n",
    "\n",
    "#Fit the model\n",
    "lasso_cv.fit(X_train,y_train)\n",
    "\n",
    "#Print the best hyperparameters\n",
    "lasso_cv.best_params_\n"
   ]
  },
  {
   "cell_type": "markdown",
   "id": "dd55cc06",
   "metadata": {},
   "source": [
    "# *For Ridge Regression*"
   ]
  },
  {
   "cell_type": "code",
   "execution_count": 21,
   "id": "0dff49a0",
   "metadata": {},
   "outputs": [
    {
     "data": {
      "text/plain": [
       "{'alpha': 1.0}"
      ]
     },
     "execution_count": 21,
     "metadata": {},
     "output_type": "execute_result"
    }
   ],
   "source": [
    "ridge=Ridge()\n",
    "\n",
    "\n",
    "parameters={'alpha':np.arange(1,10,0.1)} \n",
    "\n",
    "#n_jobs is the number of cores to use -1 means use all cores that can be risky. -2 means use all cores and minus 2\n",
    "\n",
    "ridge_cv=GridSearchCV(ridge,parameters,cv=5,n_jobs=-3)\n",
    "\n",
    "ridge_cv.fit(X_train,y_train)\n",
    "\n",
    "ridge_cv.best_params_"
   ]
  },
  {
   "cell_type": "markdown",
   "id": "69e62de7",
   "metadata": {},
   "source": [
    "# *RandomizedSearchCV*"
   ]
  },
  {
   "cell_type": "markdown",
   "id": "36c17d2b",
   "metadata": {},
   "source": [
    "# *For Lasso Regression*"
   ]
  },
  {
   "cell_type": "code",
   "execution_count": 22,
   "id": "ef2d80e3",
   "metadata": {},
   "outputs": [
    {
     "data": {
      "text/plain": [
       "{'alpha': 1.8000000000000007}"
      ]
     },
     "execution_count": 22,
     "metadata": {},
     "output_type": "execute_result"
    }
   ],
   "source": [
    "from sklearn.model_selection import RandomizedSearchCV\n",
    "\n",
    "#Create a linear regression model\n",
    "lasso=Lasso()\n",
    "\n",
    "#Create a dictionary of hyperparameters\n",
    "#arange is a NumPy function that generates a sequence of numbers from 1 to 10 with a step of 0.1\n",
    "parameters={'alpha':np.arange(1,10,0.1)} \n",
    "\n",
    "#n_jobs is the number of cores to use -1 means use all cores that can be risky\n",
    "\n",
    "#Create a GridSearchCV object\n",
    "lasso_cv=RandomizedSearchCV(lasso,parameters,cv=5,n_jobs=-3)\n",
    "\n",
    "\n",
    "#Fit the model\n",
    "lasso_cv.fit(X_train,y_train)\n",
    "\n",
    "#Print the best hyperparameters\n",
    "lasso_cv.best_params_\n"
   ]
  },
  {
   "cell_type": "markdown",
   "id": "6f13475e",
   "metadata": {},
   "source": [
    "# *For Ridge Regression*"
   ]
  },
  {
   "cell_type": "code",
   "execution_count": 23,
   "id": "3e8f14a5",
   "metadata": {},
   "outputs": [
    {
     "data": {
      "text/plain": [
       "{'alpha': 1.3000000000000003}"
      ]
     },
     "execution_count": 23,
     "metadata": {},
     "output_type": "execute_result"
    }
   ],
   "source": [
    "ridge=Ridge()\n",
    "\n",
    "\n",
    "parameters={'alpha':np.arange(1,10,0.1)} \n",
    "\n",
    "#n_jobs is the number of cores to use -1 means use all cores that can be risky. -2 means use all cores and minus 2\n",
    "\n",
    "ridge_cv=RandomizedSearchCV(ridge,parameters,cv=5,n_jobs=-3)\n",
    "\n",
    "ridge_cv.fit(X_train,y_train)\n",
    "\n",
    "ridge_cv.best_params_"
   ]
  }
 ],
 "metadata": {
  "kernelspec": {
   "display_name": "base",
   "language": "python",
   "name": "python3"
  },
  "language_info": {
   "codemirror_mode": {
    "name": "ipython",
    "version": 3
   },
   "file_extension": ".py",
   "mimetype": "text/x-python",
   "name": "python",
   "nbconvert_exporter": "python",
   "pygments_lexer": "ipython3",
   "version": "3.12.7"
  }
 },
 "nbformat": 4,
 "nbformat_minor": 5
}
