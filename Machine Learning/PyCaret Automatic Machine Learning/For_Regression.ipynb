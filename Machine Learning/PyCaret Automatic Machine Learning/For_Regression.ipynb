{
 "cells": [
  {
   "cell_type": "code",
   "execution_count": 4,
   "id": "f038e836",
   "metadata": {},
   "outputs": [
    {
     "data": {
      "application/vnd.microsoft.datawrangler.viewer.v0+json": {
       "columns": [
        {
         "name": "index",
         "rawType": "int64",
         "type": "integer"
        },
        {
         "name": "total_bill",
         "rawType": "float64",
         "type": "float"
        },
        {
         "name": "tip",
         "rawType": "float64",
         "type": "float"
        },
        {
         "name": "sex",
         "rawType": "category",
         "type": "unknown"
        },
        {
         "name": "smoker",
         "rawType": "category",
         "type": "unknown"
        },
        {
         "name": "day",
         "rawType": "category",
         "type": "unknown"
        },
        {
         "name": "time",
         "rawType": "category",
         "type": "unknown"
        },
        {
         "name": "size",
         "rawType": "int64",
         "type": "integer"
        }
       ],
       "ref": "ff620e97-9f37-418c-9390-554094b749a7",
       "rows": [
        [
         "0",
         "16.99",
         "1.01",
         "Female",
         "No",
         "Sun",
         "Dinner",
         "2"
        ],
        [
         "1",
         "10.34",
         "1.66",
         "Male",
         "No",
         "Sun",
         "Dinner",
         "3"
        ],
        [
         "2",
         "21.01",
         "3.5",
         "Male",
         "No",
         "Sun",
         "Dinner",
         "3"
        ],
        [
         "3",
         "23.68",
         "3.31",
         "Male",
         "No",
         "Sun",
         "Dinner",
         "2"
        ],
        [
         "4",
         "24.59",
         "3.61",
         "Female",
         "No",
         "Sun",
         "Dinner",
         "4"
        ],
        [
         "5",
         "25.29",
         "4.71",
         "Male",
         "No",
         "Sun",
         "Dinner",
         "4"
        ],
        [
         "6",
         "8.77",
         "2.0",
         "Male",
         "No",
         "Sun",
         "Dinner",
         "2"
        ],
        [
         "7",
         "26.88",
         "3.12",
         "Male",
         "No",
         "Sun",
         "Dinner",
         "4"
        ],
        [
         "8",
         "15.04",
         "1.96",
         "Male",
         "No",
         "Sun",
         "Dinner",
         "2"
        ],
        [
         "9",
         "14.78",
         "3.23",
         "Male",
         "No",
         "Sun",
         "Dinner",
         "2"
        ],
        [
         "10",
         "10.27",
         "1.71",
         "Male",
         "No",
         "Sun",
         "Dinner",
         "2"
        ],
        [
         "11",
         "35.26",
         "5.0",
         "Female",
         "No",
         "Sun",
         "Dinner",
         "4"
        ],
        [
         "12",
         "15.42",
         "1.57",
         "Male",
         "No",
         "Sun",
         "Dinner",
         "2"
        ],
        [
         "13",
         "18.43",
         "3.0",
         "Male",
         "No",
         "Sun",
         "Dinner",
         "4"
        ],
        [
         "14",
         "14.83",
         "3.02",
         "Female",
         "No",
         "Sun",
         "Dinner",
         "2"
        ],
        [
         "15",
         "21.58",
         "3.92",
         "Male",
         "No",
         "Sun",
         "Dinner",
         "2"
        ],
        [
         "16",
         "10.33",
         "1.67",
         "Female",
         "No",
         "Sun",
         "Dinner",
         "3"
        ],
        [
         "17",
         "16.29",
         "3.71",
         "Male",
         "No",
         "Sun",
         "Dinner",
         "3"
        ],
        [
         "18",
         "16.97",
         "3.5",
         "Female",
         "No",
         "Sun",
         "Dinner",
         "3"
        ],
        [
         "19",
         "20.65",
         "3.35",
         "Male",
         "No",
         "Sat",
         "Dinner",
         "3"
        ],
        [
         "20",
         "17.92",
         "4.08",
         "Male",
         "No",
         "Sat",
         "Dinner",
         "2"
        ],
        [
         "21",
         "20.29",
         "2.75",
         "Female",
         "No",
         "Sat",
         "Dinner",
         "2"
        ],
        [
         "22",
         "15.77",
         "2.23",
         "Female",
         "No",
         "Sat",
         "Dinner",
         "2"
        ],
        [
         "23",
         "39.42",
         "7.58",
         "Male",
         "No",
         "Sat",
         "Dinner",
         "4"
        ],
        [
         "24",
         "19.82",
         "3.18",
         "Male",
         "No",
         "Sat",
         "Dinner",
         "2"
        ],
        [
         "25",
         "17.81",
         "2.34",
         "Male",
         "No",
         "Sat",
         "Dinner",
         "4"
        ],
        [
         "26",
         "13.37",
         "2.0",
         "Male",
         "No",
         "Sat",
         "Dinner",
         "2"
        ],
        [
         "27",
         "12.69",
         "2.0",
         "Male",
         "No",
         "Sat",
         "Dinner",
         "2"
        ],
        [
         "28",
         "21.7",
         "4.3",
         "Male",
         "No",
         "Sat",
         "Dinner",
         "2"
        ],
        [
         "29",
         "19.65",
         "3.0",
         "Female",
         "No",
         "Sat",
         "Dinner",
         "2"
        ],
        [
         "30",
         "9.55",
         "1.45",
         "Male",
         "No",
         "Sat",
         "Dinner",
         "2"
        ],
        [
         "31",
         "18.35",
         "2.5",
         "Male",
         "No",
         "Sat",
         "Dinner",
         "4"
        ],
        [
         "32",
         "15.06",
         "3.0",
         "Female",
         "No",
         "Sat",
         "Dinner",
         "2"
        ],
        [
         "33",
         "20.69",
         "2.45",
         "Female",
         "No",
         "Sat",
         "Dinner",
         "4"
        ],
        [
         "34",
         "17.78",
         "3.27",
         "Male",
         "No",
         "Sat",
         "Dinner",
         "2"
        ],
        [
         "35",
         "24.06",
         "3.6",
         "Male",
         "No",
         "Sat",
         "Dinner",
         "3"
        ],
        [
         "36",
         "16.31",
         "2.0",
         "Male",
         "No",
         "Sat",
         "Dinner",
         "3"
        ],
        [
         "37",
         "16.93",
         "3.07",
         "Female",
         "No",
         "Sat",
         "Dinner",
         "3"
        ],
        [
         "38",
         "18.69",
         "2.31",
         "Male",
         "No",
         "Sat",
         "Dinner",
         "3"
        ],
        [
         "39",
         "31.27",
         "5.0",
         "Male",
         "No",
         "Sat",
         "Dinner",
         "3"
        ],
        [
         "40",
         "16.04",
         "2.24",
         "Male",
         "No",
         "Sat",
         "Dinner",
         "3"
        ],
        [
         "41",
         "17.46",
         "2.54",
         "Male",
         "No",
         "Sun",
         "Dinner",
         "2"
        ],
        [
         "42",
         "13.94",
         "3.06",
         "Male",
         "No",
         "Sun",
         "Dinner",
         "2"
        ],
        [
         "43",
         "9.68",
         "1.32",
         "Male",
         "No",
         "Sun",
         "Dinner",
         "2"
        ],
        [
         "44",
         "30.4",
         "5.6",
         "Male",
         "No",
         "Sun",
         "Dinner",
         "4"
        ],
        [
         "45",
         "18.29",
         "3.0",
         "Male",
         "No",
         "Sun",
         "Dinner",
         "2"
        ],
        [
         "46",
         "22.23",
         "5.0",
         "Male",
         "No",
         "Sun",
         "Dinner",
         "2"
        ],
        [
         "47",
         "32.4",
         "6.0",
         "Male",
         "No",
         "Sun",
         "Dinner",
         "4"
        ],
        [
         "48",
         "28.55",
         "2.05",
         "Male",
         "No",
         "Sun",
         "Dinner",
         "3"
        ],
        [
         "49",
         "18.04",
         "3.0",
         "Male",
         "No",
         "Sun",
         "Dinner",
         "2"
        ]
       ],
       "shape": {
        "columns": 7,
        "rows": 244
       }
      },
      "text/html": [
       "<div>\n",
       "<style scoped>\n",
       "    .dataframe tbody tr th:only-of-type {\n",
       "        vertical-align: middle;\n",
       "    }\n",
       "\n",
       "    .dataframe tbody tr th {\n",
       "        vertical-align: top;\n",
       "    }\n",
       "\n",
       "    .dataframe thead th {\n",
       "        text-align: right;\n",
       "    }\n",
       "</style>\n",
       "<table border=\"1\" class=\"dataframe\">\n",
       "  <thead>\n",
       "    <tr style=\"text-align: right;\">\n",
       "      <th></th>\n",
       "      <th>total_bill</th>\n",
       "      <th>tip</th>\n",
       "      <th>sex</th>\n",
       "      <th>smoker</th>\n",
       "      <th>day</th>\n",
       "      <th>time</th>\n",
       "      <th>size</th>\n",
       "    </tr>\n",
       "  </thead>\n",
       "  <tbody>\n",
       "    <tr>\n",
       "      <th>0</th>\n",
       "      <td>16.99</td>\n",
       "      <td>1.01</td>\n",
       "      <td>Female</td>\n",
       "      <td>No</td>\n",
       "      <td>Sun</td>\n",
       "      <td>Dinner</td>\n",
       "      <td>2</td>\n",
       "    </tr>\n",
       "    <tr>\n",
       "      <th>1</th>\n",
       "      <td>10.34</td>\n",
       "      <td>1.66</td>\n",
       "      <td>Male</td>\n",
       "      <td>No</td>\n",
       "      <td>Sun</td>\n",
       "      <td>Dinner</td>\n",
       "      <td>3</td>\n",
       "    </tr>\n",
       "    <tr>\n",
       "      <th>2</th>\n",
       "      <td>21.01</td>\n",
       "      <td>3.50</td>\n",
       "      <td>Male</td>\n",
       "      <td>No</td>\n",
       "      <td>Sun</td>\n",
       "      <td>Dinner</td>\n",
       "      <td>3</td>\n",
       "    </tr>\n",
       "    <tr>\n",
       "      <th>3</th>\n",
       "      <td>23.68</td>\n",
       "      <td>3.31</td>\n",
       "      <td>Male</td>\n",
       "      <td>No</td>\n",
       "      <td>Sun</td>\n",
       "      <td>Dinner</td>\n",
       "      <td>2</td>\n",
       "    </tr>\n",
       "    <tr>\n",
       "      <th>4</th>\n",
       "      <td>24.59</td>\n",
       "      <td>3.61</td>\n",
       "      <td>Female</td>\n",
       "      <td>No</td>\n",
       "      <td>Sun</td>\n",
       "      <td>Dinner</td>\n",
       "      <td>4</td>\n",
       "    </tr>\n",
       "    <tr>\n",
       "      <th>...</th>\n",
       "      <td>...</td>\n",
       "      <td>...</td>\n",
       "      <td>...</td>\n",
       "      <td>...</td>\n",
       "      <td>...</td>\n",
       "      <td>...</td>\n",
       "      <td>...</td>\n",
       "    </tr>\n",
       "    <tr>\n",
       "      <th>239</th>\n",
       "      <td>29.03</td>\n",
       "      <td>5.92</td>\n",
       "      <td>Male</td>\n",
       "      <td>No</td>\n",
       "      <td>Sat</td>\n",
       "      <td>Dinner</td>\n",
       "      <td>3</td>\n",
       "    </tr>\n",
       "    <tr>\n",
       "      <th>240</th>\n",
       "      <td>27.18</td>\n",
       "      <td>2.00</td>\n",
       "      <td>Female</td>\n",
       "      <td>Yes</td>\n",
       "      <td>Sat</td>\n",
       "      <td>Dinner</td>\n",
       "      <td>2</td>\n",
       "    </tr>\n",
       "    <tr>\n",
       "      <th>241</th>\n",
       "      <td>22.67</td>\n",
       "      <td>2.00</td>\n",
       "      <td>Male</td>\n",
       "      <td>Yes</td>\n",
       "      <td>Sat</td>\n",
       "      <td>Dinner</td>\n",
       "      <td>2</td>\n",
       "    </tr>\n",
       "    <tr>\n",
       "      <th>242</th>\n",
       "      <td>17.82</td>\n",
       "      <td>1.75</td>\n",
       "      <td>Male</td>\n",
       "      <td>No</td>\n",
       "      <td>Sat</td>\n",
       "      <td>Dinner</td>\n",
       "      <td>2</td>\n",
       "    </tr>\n",
       "    <tr>\n",
       "      <th>243</th>\n",
       "      <td>18.78</td>\n",
       "      <td>3.00</td>\n",
       "      <td>Female</td>\n",
       "      <td>No</td>\n",
       "      <td>Thur</td>\n",
       "      <td>Dinner</td>\n",
       "      <td>2</td>\n",
       "    </tr>\n",
       "  </tbody>\n",
       "</table>\n",
       "<p>244 rows × 7 columns</p>\n",
       "</div>"
      ],
      "text/plain": [
       "     total_bill   tip     sex smoker   day    time  size\n",
       "0         16.99  1.01  Female     No   Sun  Dinner     2\n",
       "1         10.34  1.66    Male     No   Sun  Dinner     3\n",
       "2         21.01  3.50    Male     No   Sun  Dinner     3\n",
       "3         23.68  3.31    Male     No   Sun  Dinner     2\n",
       "4         24.59  3.61  Female     No   Sun  Dinner     4\n",
       "..          ...   ...     ...    ...   ...     ...   ...\n",
       "239       29.03  5.92    Male     No   Sat  Dinner     3\n",
       "240       27.18  2.00  Female    Yes   Sat  Dinner     2\n",
       "241       22.67  2.00    Male    Yes   Sat  Dinner     2\n",
       "242       17.82  1.75    Male     No   Sat  Dinner     2\n",
       "243       18.78  3.00  Female     No  Thur  Dinner     2\n",
       "\n",
       "[244 rows x 7 columns]"
      ]
     },
     "execution_count": 4,
     "metadata": {},
     "output_type": "execute_result"
    }
   ],
   "source": [
    "import pandas as pd\n",
    "import numpy as np\n",
    "import seaborn as sns\n",
    "import matplotlib.pyplot as plt\n",
    "import warnings\n",
    "warnings.filterwarnings(\"ignore\")\n",
    "%matplotlib inline\n",
    "df=sns.load_dataset('tips')\n",
    "df"
   ]
  },
  {
   "cell_type": "code",
   "execution_count": 7,
   "id": "eb00fbe0",
   "metadata": {},
   "outputs": [
    {
     "data": {
      "application/vnd.microsoft.datawrangler.viewer.v0+json": {
       "columns": [
        {
         "name": "index",
         "rawType": "int64",
         "type": "integer"
        },
        {
         "name": "total_bill",
         "rawType": "float64",
         "type": "float"
        },
        {
         "name": "tip",
         "rawType": "float64",
         "type": "float"
        },
        {
         "name": "sex",
         "rawType": "int8",
         "type": "integer"
        },
        {
         "name": "smoker",
         "rawType": "int8",
         "type": "integer"
        },
        {
         "name": "day",
         "rawType": "int8",
         "type": "integer"
        },
        {
         "name": "time",
         "rawType": "int8",
         "type": "integer"
        },
        {
         "name": "size",
         "rawType": "int64",
         "type": "integer"
        }
       ],
       "ref": "7553d27c-2703-4e88-835e-e9021a370582",
       "rows": [
        [
         "0",
         "16.99",
         "1.01",
         "1",
         "1",
         "3",
         "1",
         "2"
        ],
        [
         "1",
         "10.34",
         "1.66",
         "0",
         "1",
         "3",
         "1",
         "3"
        ],
        [
         "2",
         "21.01",
         "3.5",
         "0",
         "1",
         "3",
         "1",
         "3"
        ],
        [
         "3",
         "23.68",
         "3.31",
         "0",
         "1",
         "3",
         "1",
         "2"
        ],
        [
         "4",
         "24.59",
         "3.61",
         "1",
         "1",
         "3",
         "1",
         "4"
        ],
        [
         "5",
         "25.29",
         "4.71",
         "0",
         "1",
         "3",
         "1",
         "4"
        ],
        [
         "6",
         "8.77",
         "2.0",
         "0",
         "1",
         "3",
         "1",
         "2"
        ],
        [
         "7",
         "26.88",
         "3.12",
         "0",
         "1",
         "3",
         "1",
         "4"
        ],
        [
         "8",
         "15.04",
         "1.96",
         "0",
         "1",
         "3",
         "1",
         "2"
        ],
        [
         "9",
         "14.78",
         "3.23",
         "0",
         "1",
         "3",
         "1",
         "2"
        ],
        [
         "10",
         "10.27",
         "1.71",
         "0",
         "1",
         "3",
         "1",
         "2"
        ],
        [
         "11",
         "35.26",
         "5.0",
         "1",
         "1",
         "3",
         "1",
         "4"
        ],
        [
         "12",
         "15.42",
         "1.57",
         "0",
         "1",
         "3",
         "1",
         "2"
        ],
        [
         "13",
         "18.43",
         "3.0",
         "0",
         "1",
         "3",
         "1",
         "4"
        ],
        [
         "14",
         "14.83",
         "3.02",
         "1",
         "1",
         "3",
         "1",
         "2"
        ],
        [
         "15",
         "21.58",
         "3.92",
         "0",
         "1",
         "3",
         "1",
         "2"
        ],
        [
         "16",
         "10.33",
         "1.67",
         "1",
         "1",
         "3",
         "1",
         "3"
        ],
        [
         "17",
         "16.29",
         "3.71",
         "0",
         "1",
         "3",
         "1",
         "3"
        ],
        [
         "18",
         "16.97",
         "3.5",
         "1",
         "1",
         "3",
         "1",
         "3"
        ],
        [
         "19",
         "20.65",
         "3.35",
         "0",
         "1",
         "2",
         "1",
         "3"
        ],
        [
         "20",
         "17.92",
         "4.08",
         "0",
         "1",
         "2",
         "1",
         "2"
        ],
        [
         "21",
         "20.29",
         "2.75",
         "1",
         "1",
         "2",
         "1",
         "2"
        ],
        [
         "22",
         "15.77",
         "2.23",
         "1",
         "1",
         "2",
         "1",
         "2"
        ],
        [
         "23",
         "39.42",
         "7.58",
         "0",
         "1",
         "2",
         "1",
         "4"
        ],
        [
         "24",
         "19.82",
         "3.18",
         "0",
         "1",
         "2",
         "1",
         "2"
        ],
        [
         "25",
         "17.81",
         "2.34",
         "0",
         "1",
         "2",
         "1",
         "4"
        ],
        [
         "26",
         "13.37",
         "2.0",
         "0",
         "1",
         "2",
         "1",
         "2"
        ],
        [
         "27",
         "12.69",
         "2.0",
         "0",
         "1",
         "2",
         "1",
         "2"
        ],
        [
         "28",
         "21.7",
         "4.3",
         "0",
         "1",
         "2",
         "1",
         "2"
        ],
        [
         "29",
         "19.65",
         "3.0",
         "1",
         "1",
         "2",
         "1",
         "2"
        ],
        [
         "30",
         "9.55",
         "1.45",
         "0",
         "1",
         "2",
         "1",
         "2"
        ],
        [
         "31",
         "18.35",
         "2.5",
         "0",
         "1",
         "2",
         "1",
         "4"
        ],
        [
         "32",
         "15.06",
         "3.0",
         "1",
         "1",
         "2",
         "1",
         "2"
        ],
        [
         "33",
         "20.69",
         "2.45",
         "1",
         "1",
         "2",
         "1",
         "4"
        ],
        [
         "34",
         "17.78",
         "3.27",
         "0",
         "1",
         "2",
         "1",
         "2"
        ],
        [
         "35",
         "24.06",
         "3.6",
         "0",
         "1",
         "2",
         "1",
         "3"
        ],
        [
         "36",
         "16.31",
         "2.0",
         "0",
         "1",
         "2",
         "1",
         "3"
        ],
        [
         "37",
         "16.93",
         "3.07",
         "1",
         "1",
         "2",
         "1",
         "3"
        ],
        [
         "38",
         "18.69",
         "2.31",
         "0",
         "1",
         "2",
         "1",
         "3"
        ],
        [
         "39",
         "31.27",
         "5.0",
         "0",
         "1",
         "2",
         "1",
         "3"
        ],
        [
         "40",
         "16.04",
         "2.24",
         "0",
         "1",
         "2",
         "1",
         "3"
        ],
        [
         "41",
         "17.46",
         "2.54",
         "0",
         "1",
         "3",
         "1",
         "2"
        ],
        [
         "42",
         "13.94",
         "3.06",
         "0",
         "1",
         "3",
         "1",
         "2"
        ],
        [
         "43",
         "9.68",
         "1.32",
         "0",
         "1",
         "3",
         "1",
         "2"
        ],
        [
         "44",
         "30.4",
         "5.6",
         "0",
         "1",
         "3",
         "1",
         "4"
        ],
        [
         "45",
         "18.29",
         "3.0",
         "0",
         "1",
         "3",
         "1",
         "2"
        ],
        [
         "46",
         "22.23",
         "5.0",
         "0",
         "1",
         "3",
         "1",
         "2"
        ],
        [
         "47",
         "32.4",
         "6.0",
         "0",
         "1",
         "3",
         "1",
         "4"
        ],
        [
         "48",
         "28.55",
         "2.05",
         "0",
         "1",
         "3",
         "1",
         "3"
        ],
        [
         "49",
         "18.04",
         "3.0",
         "0",
         "1",
         "3",
         "1",
         "2"
        ]
       ],
       "shape": {
        "columns": 7,
        "rows": 244
       }
      },
      "text/html": [
       "<div>\n",
       "<style scoped>\n",
       "    .dataframe tbody tr th:only-of-type {\n",
       "        vertical-align: middle;\n",
       "    }\n",
       "\n",
       "    .dataframe tbody tr th {\n",
       "        vertical-align: top;\n",
       "    }\n",
       "\n",
       "    .dataframe thead th {\n",
       "        text-align: right;\n",
       "    }\n",
       "</style>\n",
       "<table border=\"1\" class=\"dataframe\">\n",
       "  <thead>\n",
       "    <tr style=\"text-align: right;\">\n",
       "      <th></th>\n",
       "      <th>total_bill</th>\n",
       "      <th>tip</th>\n",
       "      <th>sex</th>\n",
       "      <th>smoker</th>\n",
       "      <th>day</th>\n",
       "      <th>time</th>\n",
       "      <th>size</th>\n",
       "    </tr>\n",
       "  </thead>\n",
       "  <tbody>\n",
       "    <tr>\n",
       "      <th>0</th>\n",
       "      <td>16.99</td>\n",
       "      <td>1.01</td>\n",
       "      <td>1</td>\n",
       "      <td>1</td>\n",
       "      <td>3</td>\n",
       "      <td>1</td>\n",
       "      <td>2</td>\n",
       "    </tr>\n",
       "    <tr>\n",
       "      <th>1</th>\n",
       "      <td>10.34</td>\n",
       "      <td>1.66</td>\n",
       "      <td>0</td>\n",
       "      <td>1</td>\n",
       "      <td>3</td>\n",
       "      <td>1</td>\n",
       "      <td>3</td>\n",
       "    </tr>\n",
       "    <tr>\n",
       "      <th>2</th>\n",
       "      <td>21.01</td>\n",
       "      <td>3.50</td>\n",
       "      <td>0</td>\n",
       "      <td>1</td>\n",
       "      <td>3</td>\n",
       "      <td>1</td>\n",
       "      <td>3</td>\n",
       "    </tr>\n",
       "    <tr>\n",
       "      <th>3</th>\n",
       "      <td>23.68</td>\n",
       "      <td>3.31</td>\n",
       "      <td>0</td>\n",
       "      <td>1</td>\n",
       "      <td>3</td>\n",
       "      <td>1</td>\n",
       "      <td>2</td>\n",
       "    </tr>\n",
       "    <tr>\n",
       "      <th>4</th>\n",
       "      <td>24.59</td>\n",
       "      <td>3.61</td>\n",
       "      <td>1</td>\n",
       "      <td>1</td>\n",
       "      <td>3</td>\n",
       "      <td>1</td>\n",
       "      <td>4</td>\n",
       "    </tr>\n",
       "    <tr>\n",
       "      <th>...</th>\n",
       "      <td>...</td>\n",
       "      <td>...</td>\n",
       "      <td>...</td>\n",
       "      <td>...</td>\n",
       "      <td>...</td>\n",
       "      <td>...</td>\n",
       "      <td>...</td>\n",
       "    </tr>\n",
       "    <tr>\n",
       "      <th>239</th>\n",
       "      <td>29.03</td>\n",
       "      <td>5.92</td>\n",
       "      <td>0</td>\n",
       "      <td>1</td>\n",
       "      <td>2</td>\n",
       "      <td>1</td>\n",
       "      <td>3</td>\n",
       "    </tr>\n",
       "    <tr>\n",
       "      <th>240</th>\n",
       "      <td>27.18</td>\n",
       "      <td>2.00</td>\n",
       "      <td>1</td>\n",
       "      <td>0</td>\n",
       "      <td>2</td>\n",
       "      <td>1</td>\n",
       "      <td>2</td>\n",
       "    </tr>\n",
       "    <tr>\n",
       "      <th>241</th>\n",
       "      <td>22.67</td>\n",
       "      <td>2.00</td>\n",
       "      <td>0</td>\n",
       "      <td>0</td>\n",
       "      <td>2</td>\n",
       "      <td>1</td>\n",
       "      <td>2</td>\n",
       "    </tr>\n",
       "    <tr>\n",
       "      <th>242</th>\n",
       "      <td>17.82</td>\n",
       "      <td>1.75</td>\n",
       "      <td>0</td>\n",
       "      <td>1</td>\n",
       "      <td>2</td>\n",
       "      <td>1</td>\n",
       "      <td>2</td>\n",
       "    </tr>\n",
       "    <tr>\n",
       "      <th>243</th>\n",
       "      <td>18.78</td>\n",
       "      <td>3.00</td>\n",
       "      <td>1</td>\n",
       "      <td>1</td>\n",
       "      <td>0</td>\n",
       "      <td>1</td>\n",
       "      <td>2</td>\n",
       "    </tr>\n",
       "  </tbody>\n",
       "</table>\n",
       "<p>244 rows × 7 columns</p>\n",
       "</div>"
      ],
      "text/plain": [
       "     total_bill   tip  sex  smoker  day  time  size\n",
       "0         16.99  1.01    1       1    3     1     2\n",
       "1         10.34  1.66    0       1    3     1     3\n",
       "2         21.01  3.50    0       1    3     1     3\n",
       "3         23.68  3.31    0       1    3     1     2\n",
       "4         24.59  3.61    1       1    3     1     4\n",
       "..          ...   ...  ...     ...  ...   ...   ...\n",
       "239       29.03  5.92    0       1    2     1     3\n",
       "240       27.18  2.00    1       0    2     1     2\n",
       "241       22.67  2.00    0       0    2     1     2\n",
       "242       17.82  1.75    0       1    2     1     2\n",
       "243       18.78  3.00    1       1    0     1     2\n",
       "\n",
       "[244 rows x 7 columns]"
      ]
     },
     "execution_count": 7,
     "metadata": {},
     "output_type": "execute_result"
    }
   ],
   "source": [
    "#chaning categoric to numeric\n",
    "categoric_columns =['sex','smoker','day','time']\n",
    "for column in categoric_columns:\n",
    "    df[column] = pd.Categorical(df[column]).codes\n",
    "df"
   ]
  },
  {
   "cell_type": "code",
   "execution_count": 9,
   "id": "f2824920",
   "metadata": {},
   "outputs": [],
   "source": [
    "from sklearn.model_selection import train_test_split\n",
    "X_train, X_test, y_train, y_test = train_test_split(df.drop('tip', axis=1), df['tip'], test_size=0.2, random_state=42)\n",
    "\n"
   ]
  },
  {
   "cell_type": "code",
   "execution_count": 14,
   "id": "6ca6bdb1",
   "metadata": {},
   "outputs": [],
   "source": [
    "from pycaret.regression import *\n",
    "regression_setup= setup(data=df,\n",
    "                        target='tip',\n",
    "                        session_id=123,\n",
    "                        normalize=True,\n",
    "                        polynomial_features=True,\n",
    "                        remove_multicollinearity=True,\n",
    "                        experiment_name='tips_regression',\n",
    "                        verbose=False,\n",
    "                        log_experiment=False,\n",
    "   \n",
    "   )\n"
   ]
  },
  {
   "cell_type": "code",
   "execution_count": 15,
   "id": "c728698f",
   "metadata": {},
   "outputs": [
    {
     "data": {
      "text/html": [],
      "text/plain": [
       "<IPython.core.display.HTML object>"
      ]
     },
     "metadata": {},
     "output_type": "display_data"
    },
    {
     "data": {
      "text/html": [
       "<style type=\"text/css\">\n",
       "#T_f3a8a th {\n",
       "  text-align: left;\n",
       "}\n",
       "#T_f3a8a_row0_col0, #T_f3a8a_row0_col1, #T_f3a8a_row0_col2, #T_f3a8a_row0_col3, #T_f3a8a_row0_col5, #T_f3a8a_row0_col6, #T_f3a8a_row1_col0, #T_f3a8a_row1_col4, #T_f3a8a_row1_col6, #T_f3a8a_row2_col0, #T_f3a8a_row2_col1, #T_f3a8a_row2_col2, #T_f3a8a_row2_col3, #T_f3a8a_row2_col4, #T_f3a8a_row2_col5, #T_f3a8a_row2_col6, #T_f3a8a_row3_col0, #T_f3a8a_row3_col1, #T_f3a8a_row3_col2, #T_f3a8a_row3_col3, #T_f3a8a_row3_col4, #T_f3a8a_row3_col5, #T_f3a8a_row4_col0, #T_f3a8a_row4_col1, #T_f3a8a_row4_col2, #T_f3a8a_row4_col3, #T_f3a8a_row4_col4, #T_f3a8a_row4_col5, #T_f3a8a_row4_col6, #T_f3a8a_row5_col0, #T_f3a8a_row5_col1, #T_f3a8a_row5_col2, #T_f3a8a_row5_col3, #T_f3a8a_row5_col4, #T_f3a8a_row5_col5, #T_f3a8a_row5_col6, #T_f3a8a_row6_col0, #T_f3a8a_row6_col1, #T_f3a8a_row6_col2, #T_f3a8a_row6_col3, #T_f3a8a_row6_col4, #T_f3a8a_row6_col5, #T_f3a8a_row6_col6, #T_f3a8a_row7_col0, #T_f3a8a_row7_col1, #T_f3a8a_row7_col2, #T_f3a8a_row7_col3, #T_f3a8a_row7_col4, #T_f3a8a_row7_col5, #T_f3a8a_row7_col6, #T_f3a8a_row8_col0, #T_f3a8a_row8_col1, #T_f3a8a_row8_col2, #T_f3a8a_row8_col3, #T_f3a8a_row8_col4, #T_f3a8a_row8_col5, #T_f3a8a_row8_col6, #T_f3a8a_row9_col0, #T_f3a8a_row9_col1, #T_f3a8a_row9_col2, #T_f3a8a_row9_col3, #T_f3a8a_row9_col4, #T_f3a8a_row9_col5, #T_f3a8a_row9_col6, #T_f3a8a_row10_col0, #T_f3a8a_row10_col1, #T_f3a8a_row10_col2, #T_f3a8a_row10_col3, #T_f3a8a_row10_col4, #T_f3a8a_row10_col5, #T_f3a8a_row10_col6, #T_f3a8a_row11_col0, #T_f3a8a_row11_col1, #T_f3a8a_row11_col2, #T_f3a8a_row11_col3, #T_f3a8a_row11_col4, #T_f3a8a_row11_col5, #T_f3a8a_row11_col6, #T_f3a8a_row12_col0, #T_f3a8a_row12_col1, #T_f3a8a_row12_col2, #T_f3a8a_row12_col3, #T_f3a8a_row12_col4, #T_f3a8a_row12_col5, #T_f3a8a_row12_col6, #T_f3a8a_row13_col0, #T_f3a8a_row13_col1, #T_f3a8a_row13_col2, #T_f3a8a_row13_col3, #T_f3a8a_row13_col4, #T_f3a8a_row13_col5, #T_f3a8a_row13_col6, #T_f3a8a_row14_col0, #T_f3a8a_row14_col1, #T_f3a8a_row14_col2, #T_f3a8a_row14_col3, #T_f3a8a_row14_col4, #T_f3a8a_row14_col5, #T_f3a8a_row14_col6, #T_f3a8a_row15_col0, #T_f3a8a_row15_col1, #T_f3a8a_row15_col2, #T_f3a8a_row15_col3, #T_f3a8a_row15_col4, #T_f3a8a_row15_col5, #T_f3a8a_row15_col6, #T_f3a8a_row16_col0, #T_f3a8a_row16_col1, #T_f3a8a_row16_col2, #T_f3a8a_row16_col3, #T_f3a8a_row16_col4, #T_f3a8a_row16_col5, #T_f3a8a_row16_col6, #T_f3a8a_row17_col0, #T_f3a8a_row17_col1, #T_f3a8a_row17_col2, #T_f3a8a_row17_col3, #T_f3a8a_row17_col4, #T_f3a8a_row17_col5, #T_f3a8a_row17_col6, #T_f3a8a_row18_col0, #T_f3a8a_row18_col1, #T_f3a8a_row18_col2, #T_f3a8a_row18_col3, #T_f3a8a_row18_col4, #T_f3a8a_row18_col5, #T_f3a8a_row18_col6 {\n",
       "  text-align: left;\n",
       "}\n",
       "#T_f3a8a_row0_col4, #T_f3a8a_row1_col1, #T_f3a8a_row1_col2, #T_f3a8a_row1_col3, #T_f3a8a_row1_col5, #T_f3a8a_row3_col6 {\n",
       "  text-align: left;\n",
       "  background-color: yellow;\n",
       "}\n",
       "#T_f3a8a_row0_col7, #T_f3a8a_row2_col7, #T_f3a8a_row3_col7, #T_f3a8a_row4_col7, #T_f3a8a_row5_col7, #T_f3a8a_row6_col7, #T_f3a8a_row7_col7, #T_f3a8a_row8_col7, #T_f3a8a_row9_col7, #T_f3a8a_row10_col7, #T_f3a8a_row11_col7, #T_f3a8a_row12_col7, #T_f3a8a_row13_col7, #T_f3a8a_row16_col7 {\n",
       "  text-align: left;\n",
       "  background-color: lightgrey;\n",
       "}\n",
       "#T_f3a8a_row1_col7, #T_f3a8a_row14_col7, #T_f3a8a_row15_col7, #T_f3a8a_row17_col7, #T_f3a8a_row18_col7 {\n",
       "  text-align: left;\n",
       "  background-color: yellow;\n",
       "  background-color: lightgrey;\n",
       "}\n",
       "</style>\n",
       "<table id=\"T_f3a8a\">\n",
       "  <thead>\n",
       "    <tr>\n",
       "      <th class=\"blank level0\" >&nbsp;</th>\n",
       "      <th id=\"T_f3a8a_level0_col0\" class=\"col_heading level0 col0\" >Model</th>\n",
       "      <th id=\"T_f3a8a_level0_col1\" class=\"col_heading level0 col1\" >MAE</th>\n",
       "      <th id=\"T_f3a8a_level0_col2\" class=\"col_heading level0 col2\" >MSE</th>\n",
       "      <th id=\"T_f3a8a_level0_col3\" class=\"col_heading level0 col3\" >RMSE</th>\n",
       "      <th id=\"T_f3a8a_level0_col4\" class=\"col_heading level0 col4\" >R2</th>\n",
       "      <th id=\"T_f3a8a_level0_col5\" class=\"col_heading level0 col5\" >RMSLE</th>\n",
       "      <th id=\"T_f3a8a_level0_col6\" class=\"col_heading level0 col6\" >MAPE</th>\n",
       "      <th id=\"T_f3a8a_level0_col7\" class=\"col_heading level0 col7\" >TT (Sec)</th>\n",
       "    </tr>\n",
       "  </thead>\n",
       "  <tbody>\n",
       "    <tr>\n",
       "      <th id=\"T_f3a8a_level0_row0\" class=\"row_heading level0 row0\" >omp</th>\n",
       "      <td id=\"T_f3a8a_row0_col0\" class=\"data row0 col0\" >Orthogonal Matching Pursuit</td>\n",
       "      <td id=\"T_f3a8a_row0_col1\" class=\"data row0 col1\" >0.7654</td>\n",
       "      <td id=\"T_f3a8a_row0_col2\" class=\"data row0 col2\" >0.9841</td>\n",
       "      <td id=\"T_f3a8a_row0_col3\" class=\"data row0 col3\" >0.9816</td>\n",
       "      <td id=\"T_f3a8a_row0_col4\" class=\"data row0 col4\" >0.2605</td>\n",
       "      <td id=\"T_f3a8a_row0_col5\" class=\"data row0 col5\" >0.2408</td>\n",
       "      <td id=\"T_f3a8a_row0_col6\" class=\"data row0 col6\" >0.3005</td>\n",
       "      <td id=\"T_f3a8a_row0_col7\" class=\"data row0 col7\" >0.0110</td>\n",
       "    </tr>\n",
       "    <tr>\n",
       "      <th id=\"T_f3a8a_level0_row1\" class=\"row_heading level0 row1\" >ridge</th>\n",
       "      <td id=\"T_f3a8a_row1_col0\" class=\"data row1 col0\" >Ridge Regression</td>\n",
       "      <td id=\"T_f3a8a_row1_col1\" class=\"data row1 col1\" >0.7561</td>\n",
       "      <td id=\"T_f3a8a_row1_col2\" class=\"data row1 col2\" >0.9492</td>\n",
       "      <td id=\"T_f3a8a_row1_col3\" class=\"data row1 col3\" >0.9639</td>\n",
       "      <td id=\"T_f3a8a_row1_col4\" class=\"data row1 col4\" >0.2468</td>\n",
       "      <td id=\"T_f3a8a_row1_col5\" class=\"data row1 col5\" >0.2402</td>\n",
       "      <td id=\"T_f3a8a_row1_col6\" class=\"data row1 col6\" >0.3012</td>\n",
       "      <td id=\"T_f3a8a_row1_col7\" class=\"data row1 col7\" >0.0100</td>\n",
       "    </tr>\n",
       "    <tr>\n",
       "      <th id=\"T_f3a8a_level0_row2\" class=\"row_heading level0 row2\" >lr</th>\n",
       "      <td id=\"T_f3a8a_row2_col0\" class=\"data row2 col0\" >Linear Regression</td>\n",
       "      <td id=\"T_f3a8a_row2_col1\" class=\"data row2 col1\" >0.7608</td>\n",
       "      <td id=\"T_f3a8a_row2_col2\" class=\"data row2 col2\" >0.9504</td>\n",
       "      <td id=\"T_f3a8a_row2_col3\" class=\"data row2 col3\" >0.9649</td>\n",
       "      <td id=\"T_f3a8a_row2_col4\" class=\"data row2 col4\" >0.2391</td>\n",
       "      <td id=\"T_f3a8a_row2_col5\" class=\"data row2 col5\" >0.2419</td>\n",
       "      <td id=\"T_f3a8a_row2_col6\" class=\"data row2 col6\" >0.3058</td>\n",
       "      <td id=\"T_f3a8a_row2_col7\" class=\"data row2 col7\" >0.5420</td>\n",
       "    </tr>\n",
       "    <tr>\n",
       "      <th id=\"T_f3a8a_level0_row3\" class=\"row_heading level0 row3\" >huber</th>\n",
       "      <td id=\"T_f3a8a_row3_col0\" class=\"data row3 col0\" >Huber Regressor</td>\n",
       "      <td id=\"T_f3a8a_row3_col1\" class=\"data row3 col1\" >0.7627</td>\n",
       "      <td id=\"T_f3a8a_row3_col2\" class=\"data row3 col2\" >0.9861</td>\n",
       "      <td id=\"T_f3a8a_row3_col3\" class=\"data row3 col3\" >0.9779</td>\n",
       "      <td id=\"T_f3a8a_row3_col4\" class=\"data row3 col4\" >0.2370</td>\n",
       "      <td id=\"T_f3a8a_row3_col5\" class=\"data row3 col5\" >0.2420</td>\n",
       "      <td id=\"T_f3a8a_row3_col6\" class=\"data row3 col6\" >0.2966</td>\n",
       "      <td id=\"T_f3a8a_row3_col7\" class=\"data row3 col7\" >0.0110</td>\n",
       "    </tr>\n",
       "    <tr>\n",
       "      <th id=\"T_f3a8a_level0_row4\" class=\"row_heading level0 row4\" >br</th>\n",
       "      <td id=\"T_f3a8a_row4_col0\" class=\"data row4 col0\" >Bayesian Ridge</td>\n",
       "      <td id=\"T_f3a8a_row4_col1\" class=\"data row4 col1\" >0.7795</td>\n",
       "      <td id=\"T_f3a8a_row4_col2\" class=\"data row4 col2\" >0.9954</td>\n",
       "      <td id=\"T_f3a8a_row4_col3\" class=\"data row4 col3\" >0.9871</td>\n",
       "      <td id=\"T_f3a8a_row4_col4\" class=\"data row4 col4\" >0.2300</td>\n",
       "      <td id=\"T_f3a8a_row4_col5\" class=\"data row4 col5\" >0.2435</td>\n",
       "      <td id=\"T_f3a8a_row4_col6\" class=\"data row4 col6\" >0.3088</td>\n",
       "      <td id=\"T_f3a8a_row4_col7\" class=\"data row4 col7\" >0.0130</td>\n",
       "    </tr>\n",
       "    <tr>\n",
       "      <th id=\"T_f3a8a_level0_row5\" class=\"row_heading level0 row5\" >ada</th>\n",
       "      <td id=\"T_f3a8a_row5_col0\" class=\"data row5 col0\" >AdaBoost Regressor</td>\n",
       "      <td id=\"T_f3a8a_row5_col1\" class=\"data row5 col1\" >0.8224</td>\n",
       "      <td id=\"T_f3a8a_row5_col2\" class=\"data row5 col2\" >1.1069</td>\n",
       "      <td id=\"T_f3a8a_row5_col3\" class=\"data row5 col3\" >1.0389</td>\n",
       "      <td id=\"T_f3a8a_row5_col4\" class=\"data row5 col4\" >0.1412</td>\n",
       "      <td id=\"T_f3a8a_row5_col5\" class=\"data row5 col5\" >0.2641</td>\n",
       "      <td id=\"T_f3a8a_row5_col6\" class=\"data row5 col6\" >0.3477</td>\n",
       "      <td id=\"T_f3a8a_row5_col7\" class=\"data row5 col7\" >0.0210</td>\n",
       "    </tr>\n",
       "    <tr>\n",
       "      <th id=\"T_f3a8a_level0_row6\" class=\"row_heading level0 row6\" >knn</th>\n",
       "      <td id=\"T_f3a8a_row6_col0\" class=\"data row6 col0\" >K Neighbors Regressor</td>\n",
       "      <td id=\"T_f3a8a_row6_col1\" class=\"data row6 col1\" >0.8291</td>\n",
       "      <td id=\"T_f3a8a_row6_col2\" class=\"data row6 col2\" >1.1403</td>\n",
       "      <td id=\"T_f3a8a_row6_col3\" class=\"data row6 col3\" >1.0470</td>\n",
       "      <td id=\"T_f3a8a_row6_col4\" class=\"data row6 col4\" >0.1398</td>\n",
       "      <td id=\"T_f3a8a_row6_col5\" class=\"data row6 col5\" >0.2618</td>\n",
       "      <td id=\"T_f3a8a_row6_col6\" class=\"data row6 col6\" >0.3210</td>\n",
       "      <td id=\"T_f3a8a_row6_col7\" class=\"data row6 col7\" >0.0120</td>\n",
       "    </tr>\n",
       "    <tr>\n",
       "      <th id=\"T_f3a8a_level0_row7\" class=\"row_heading level0 row7\" >lightgbm</th>\n",
       "      <td id=\"T_f3a8a_row7_col0\" class=\"data row7 col0\" >Light Gradient Boosting Machine</td>\n",
       "      <td id=\"T_f3a8a_row7_col1\" class=\"data row7 col1\" >0.8037</td>\n",
       "      <td id=\"T_f3a8a_row7_col2\" class=\"data row7 col2\" >1.1275</td>\n",
       "      <td id=\"T_f3a8a_row7_col3\" class=\"data row7 col3\" >1.0440</td>\n",
       "      <td id=\"T_f3a8a_row7_col4\" class=\"data row7 col4\" >0.1076</td>\n",
       "      <td id=\"T_f3a8a_row7_col5\" class=\"data row7 col5\" >0.2556</td>\n",
       "      <td id=\"T_f3a8a_row7_col6\" class=\"data row7 col6\" >0.3129</td>\n",
       "      <td id=\"T_f3a8a_row7_col7\" class=\"data row7 col7\" >0.0300</td>\n",
       "    </tr>\n",
       "    <tr>\n",
       "      <th id=\"T_f3a8a_level0_row8\" class=\"row_heading level0 row8\" >rf</th>\n",
       "      <td id=\"T_f3a8a_row8_col0\" class=\"data row8 col0\" >Random Forest Regressor</td>\n",
       "      <td id=\"T_f3a8a_row8_col1\" class=\"data row8 col1\" >0.8179</td>\n",
       "      <td id=\"T_f3a8a_row8_col2\" class=\"data row8 col2\" >1.1833</td>\n",
       "      <td id=\"T_f3a8a_row8_col3\" class=\"data row8 col3\" >1.0640</td>\n",
       "      <td id=\"T_f3a8a_row8_col4\" class=\"data row8 col4\" >0.0885</td>\n",
       "      <td id=\"T_f3a8a_row8_col5\" class=\"data row8 col5\" >0.2611</td>\n",
       "      <td id=\"T_f3a8a_row8_col6\" class=\"data row8 col6\" >0.3167</td>\n",
       "      <td id=\"T_f3a8a_row8_col7\" class=\"data row8 col7\" >0.0400</td>\n",
       "    </tr>\n",
       "    <tr>\n",
       "      <th id=\"T_f3a8a_level0_row9\" class=\"row_heading level0 row9\" >en</th>\n",
       "      <td id=\"T_f3a8a_row9_col0\" class=\"data row9 col0\" >Elastic Net</td>\n",
       "      <td id=\"T_f3a8a_row9_col1\" class=\"data row9 col1\" >0.9123</td>\n",
       "      <td id=\"T_f3a8a_row9_col2\" class=\"data row9 col2\" >1.3112</td>\n",
       "      <td id=\"T_f3a8a_row9_col3\" class=\"data row9 col3\" >1.1351</td>\n",
       "      <td id=\"T_f3a8a_row9_col4\" class=\"data row9 col4\" >0.0360</td>\n",
       "      <td id=\"T_f3a8a_row9_col5\" class=\"data row9 col5\" >0.2872</td>\n",
       "      <td id=\"T_f3a8a_row9_col6\" class=\"data row9 col6\" >0.3823</td>\n",
       "      <td id=\"T_f3a8a_row9_col7\" class=\"data row9 col7\" >0.0110</td>\n",
       "    </tr>\n",
       "    <tr>\n",
       "      <th id=\"T_f3a8a_level0_row10\" class=\"row_heading level0 row10\" >gbr</th>\n",
       "      <td id=\"T_f3a8a_row10_col0\" class=\"data row10 col0\" >Gradient Boosting Regressor</td>\n",
       "      <td id=\"T_f3a8a_row10_col1\" class=\"data row10 col1\" >0.8410</td>\n",
       "      <td id=\"T_f3a8a_row10_col2\" class=\"data row10 col2\" >1.2889</td>\n",
       "      <td id=\"T_f3a8a_row10_col3\" class=\"data row10 col3\" >1.1087</td>\n",
       "      <td id=\"T_f3a8a_row10_col4\" class=\"data row10 col4\" >0.0069</td>\n",
       "      <td id=\"T_f3a8a_row10_col5\" class=\"data row10 col5\" >0.2737</td>\n",
       "      <td id=\"T_f3a8a_row10_col6\" class=\"data row10 col6\" >0.3291</td>\n",
       "      <td id=\"T_f3a8a_row10_col7\" class=\"data row10 col7\" >0.0180</td>\n",
       "    </tr>\n",
       "    <tr>\n",
       "      <th id=\"T_f3a8a_level0_row11\" class=\"row_heading level0 row11\" >et</th>\n",
       "      <td id=\"T_f3a8a_row11_col0\" class=\"data row11 col0\" >Extra Trees Regressor</td>\n",
       "      <td id=\"T_f3a8a_row11_col1\" class=\"data row11 col1\" >0.8544</td>\n",
       "      <td id=\"T_f3a8a_row11_col2\" class=\"data row11 col2\" >1.3548</td>\n",
       "      <td id=\"T_f3a8a_row11_col3\" class=\"data row11 col3\" >1.1337</td>\n",
       "      <td id=\"T_f3a8a_row11_col4\" class=\"data row11 col4\" >-0.0150</td>\n",
       "      <td id=\"T_f3a8a_row11_col5\" class=\"data row11 col5\" >0.2735</td>\n",
       "      <td id=\"T_f3a8a_row11_col6\" class=\"data row11 col6\" >0.3223</td>\n",
       "      <td id=\"T_f3a8a_row11_col7\" class=\"data row11 col7\" >0.0320</td>\n",
       "    </tr>\n",
       "    <tr>\n",
       "      <th id=\"T_f3a8a_level0_row12\" class=\"row_heading level0 row12\" >catboost</th>\n",
       "      <td id=\"T_f3a8a_row12_col0\" class=\"data row12 col0\" >CatBoost Regressor</td>\n",
       "      <td id=\"T_f3a8a_row12_col1\" class=\"data row12 col1\" >0.8623</td>\n",
       "      <td id=\"T_f3a8a_row12_col2\" class=\"data row12 col2\" >1.3516</td>\n",
       "      <td id=\"T_f3a8a_row12_col3\" class=\"data row12 col3\" >1.1334</td>\n",
       "      <td id=\"T_f3a8a_row12_col4\" class=\"data row12 col4\" >-0.0230</td>\n",
       "      <td id=\"T_f3a8a_row12_col5\" class=\"data row12 col5\" >0.2760</td>\n",
       "      <td id=\"T_f3a8a_row12_col6\" class=\"data row12 col6\" >0.3264</td>\n",
       "      <td id=\"T_f3a8a_row12_col7\" class=\"data row12 col7\" >0.4260</td>\n",
       "    </tr>\n",
       "    <tr>\n",
       "      <th id=\"T_f3a8a_level0_row13\" class=\"row_heading level0 row13\" >lasso</th>\n",
       "      <td id=\"T_f3a8a_row13_col0\" class=\"data row13 col0\" >Lasso Regression</td>\n",
       "      <td id=\"T_f3a8a_row13_col1\" class=\"data row13 col1\" >0.9902</td>\n",
       "      <td id=\"T_f3a8a_row13_col2\" class=\"data row13 col2\" >1.5579</td>\n",
       "      <td id=\"T_f3a8a_row13_col3\" class=\"data row13 col3\" >1.2369</td>\n",
       "      <td id=\"T_f3a8a_row13_col4\" class=\"data row13 col4\" >-0.1407</td>\n",
       "      <td id=\"T_f3a8a_row13_col5\" class=\"data row13 col5\" >0.3135</td>\n",
       "      <td id=\"T_f3a8a_row13_col6\" class=\"data row13 col6\" >0.4188</td>\n",
       "      <td id=\"T_f3a8a_row13_col7\" class=\"data row13 col7\" >0.2500</td>\n",
       "    </tr>\n",
       "    <tr>\n",
       "      <th id=\"T_f3a8a_level0_row14\" class=\"row_heading level0 row14\" >llar</th>\n",
       "      <td id=\"T_f3a8a_row14_col0\" class=\"data row14 col0\" >Lasso Least Angle Regression</td>\n",
       "      <td id=\"T_f3a8a_row14_col1\" class=\"data row14 col1\" >0.9902</td>\n",
       "      <td id=\"T_f3a8a_row14_col2\" class=\"data row14 col2\" >1.5579</td>\n",
       "      <td id=\"T_f3a8a_row14_col3\" class=\"data row14 col3\" >1.2369</td>\n",
       "      <td id=\"T_f3a8a_row14_col4\" class=\"data row14 col4\" >-0.1407</td>\n",
       "      <td id=\"T_f3a8a_row14_col5\" class=\"data row14 col5\" >0.3135</td>\n",
       "      <td id=\"T_f3a8a_row14_col6\" class=\"data row14 col6\" >0.4188</td>\n",
       "      <td id=\"T_f3a8a_row14_col7\" class=\"data row14 col7\" >0.0100</td>\n",
       "    </tr>\n",
       "    <tr>\n",
       "      <th id=\"T_f3a8a_level0_row15\" class=\"row_heading level0 row15\" >dummy</th>\n",
       "      <td id=\"T_f3a8a_row15_col0\" class=\"data row15 col0\" >Dummy Regressor</td>\n",
       "      <td id=\"T_f3a8a_row15_col1\" class=\"data row15 col1\" >0.9902</td>\n",
       "      <td id=\"T_f3a8a_row15_col2\" class=\"data row15 col2\" >1.5579</td>\n",
       "      <td id=\"T_f3a8a_row15_col3\" class=\"data row15 col3\" >1.2369</td>\n",
       "      <td id=\"T_f3a8a_row15_col4\" class=\"data row15 col4\" >-0.1407</td>\n",
       "      <td id=\"T_f3a8a_row15_col5\" class=\"data row15 col5\" >0.3135</td>\n",
       "      <td id=\"T_f3a8a_row15_col6\" class=\"data row15 col6\" >0.4188</td>\n",
       "      <td id=\"T_f3a8a_row15_col7\" class=\"data row15 col7\" >0.0100</td>\n",
       "    </tr>\n",
       "    <tr>\n",
       "      <th id=\"T_f3a8a_level0_row16\" class=\"row_heading level0 row16\" >par</th>\n",
       "      <td id=\"T_f3a8a_row16_col0\" class=\"data row16 col0\" >Passive Aggressive Regressor</td>\n",
       "      <td id=\"T_f3a8a_row16_col1\" class=\"data row16 col1\" >0.9459</td>\n",
       "      <td id=\"T_f3a8a_row16_col2\" class=\"data row16 col2\" >1.6761</td>\n",
       "      <td id=\"T_f3a8a_row16_col3\" class=\"data row16 col3\" >1.2394</td>\n",
       "      <td id=\"T_f3a8a_row16_col4\" class=\"data row16 col4\" >-0.2675</td>\n",
       "      <td id=\"T_f3a8a_row16_col5\" class=\"data row16 col5\" >0.3105</td>\n",
       "      <td id=\"T_f3a8a_row16_col6\" class=\"data row16 col6\" >0.3567</td>\n",
       "      <td id=\"T_f3a8a_row16_col7\" class=\"data row16 col7\" >0.0110</td>\n",
       "    </tr>\n",
       "    <tr>\n",
       "      <th id=\"T_f3a8a_level0_row17\" class=\"row_heading level0 row17\" >dt</th>\n",
       "      <td id=\"T_f3a8a_row17_col0\" class=\"data row17 col0\" >Decision Tree Regressor</td>\n",
       "      <td id=\"T_f3a8a_row17_col1\" class=\"data row17 col1\" >1.0342</td>\n",
       "      <td id=\"T_f3a8a_row17_col2\" class=\"data row17 col2\" >1.9555</td>\n",
       "      <td id=\"T_f3a8a_row17_col3\" class=\"data row17 col3\" >1.3626</td>\n",
       "      <td id=\"T_f3a8a_row17_col4\" class=\"data row17 col4\" >-0.5070</td>\n",
       "      <td id=\"T_f3a8a_row17_col5\" class=\"data row17 col5\" >0.3413</td>\n",
       "      <td id=\"T_f3a8a_row17_col6\" class=\"data row17 col6\" >0.3884</td>\n",
       "      <td id=\"T_f3a8a_row17_col7\" class=\"data row17 col7\" >0.0100</td>\n",
       "    </tr>\n",
       "    <tr>\n",
       "      <th id=\"T_f3a8a_level0_row18\" class=\"row_heading level0 row18\" >lar</th>\n",
       "      <td id=\"T_f3a8a_row18_col0\" class=\"data row18 col0\" >Least Angle Regression</td>\n",
       "      <td id=\"T_f3a8a_row18_col1\" class=\"data row18 col1\" >1.3040</td>\n",
       "      <td id=\"T_f3a8a_row18_col2\" class=\"data row18 col2\" >2.9369</td>\n",
       "      <td id=\"T_f3a8a_row18_col3\" class=\"data row18 col3\" >1.6569</td>\n",
       "      <td id=\"T_f3a8a_row18_col4\" class=\"data row18 col4\" >-1.7251</td>\n",
       "      <td id=\"T_f3a8a_row18_col5\" class=\"data row18 col5\" >0.3856</td>\n",
       "      <td id=\"T_f3a8a_row18_col6\" class=\"data row18 col6\" >0.5652</td>\n",
       "      <td id=\"T_f3a8a_row18_col7\" class=\"data row18 col7\" >0.0100</td>\n",
       "    </tr>\n",
       "  </tbody>\n",
       "</table>\n"
      ],
      "text/plain": [
       "<pandas.io.formats.style.Styler at 0x1bac02ee290>"
      ]
     },
     "metadata": {},
     "output_type": "display_data"
    },
    {
     "data": {
      "text/html": [],
      "text/plain": [
       "<IPython.core.display.HTML object>"
      ]
     },
     "metadata": {},
     "output_type": "display_data"
    }
   ],
   "source": [
    "best_model = compare_models()"
   ]
  },
  {
   "cell_type": "code",
   "execution_count": 16,
   "id": "1d7870a2",
   "metadata": {},
   "outputs": [
    {
     "name": "stdout",
     "output_type": "stream",
     "text": [
      "OrthogonalMatchingPursuit()\n"
     ]
    }
   ],
   "source": [
    "print(best_model)"
   ]
  },
  {
   "cell_type": "code",
   "execution_count": 18,
   "id": "c6298e39",
   "metadata": {},
   "outputs": [
    {
     "data": {
      "text/html": [],
      "text/plain": [
       "<IPython.core.display.HTML object>"
      ]
     },
     "metadata": {},
     "output_type": "display_data"
    },
    {
     "data": {
      "text/html": [
       "<style type=\"text/css\">\n",
       "#T_f9ca0_row10_col0, #T_f9ca0_row10_col1, #T_f9ca0_row10_col2, #T_f9ca0_row10_col3, #T_f9ca0_row10_col4, #T_f9ca0_row10_col5 {\n",
       "  background: yellow;\n",
       "}\n",
       "</style>\n",
       "<table id=\"T_f9ca0\">\n",
       "  <thead>\n",
       "    <tr>\n",
       "      <th class=\"blank level0\" >&nbsp;</th>\n",
       "      <th id=\"T_f9ca0_level0_col0\" class=\"col_heading level0 col0\" >MAE</th>\n",
       "      <th id=\"T_f9ca0_level0_col1\" class=\"col_heading level0 col1\" >MSE</th>\n",
       "      <th id=\"T_f9ca0_level0_col2\" class=\"col_heading level0 col2\" >RMSE</th>\n",
       "      <th id=\"T_f9ca0_level0_col3\" class=\"col_heading level0 col3\" >R2</th>\n",
       "      <th id=\"T_f9ca0_level0_col4\" class=\"col_heading level0 col4\" >RMSLE</th>\n",
       "      <th id=\"T_f9ca0_level0_col5\" class=\"col_heading level0 col5\" >MAPE</th>\n",
       "    </tr>\n",
       "    <tr>\n",
       "      <th class=\"index_name level0\" >Fold</th>\n",
       "      <th class=\"blank col0\" >&nbsp;</th>\n",
       "      <th class=\"blank col1\" >&nbsp;</th>\n",
       "      <th class=\"blank col2\" >&nbsp;</th>\n",
       "      <th class=\"blank col3\" >&nbsp;</th>\n",
       "      <th class=\"blank col4\" >&nbsp;</th>\n",
       "      <th class=\"blank col5\" >&nbsp;</th>\n",
       "    </tr>\n",
       "  </thead>\n",
       "  <tbody>\n",
       "    <tr>\n",
       "      <th id=\"T_f9ca0_level0_row0\" class=\"row_heading level0 row0\" >0</th>\n",
       "      <td id=\"T_f9ca0_row0_col0\" class=\"data row0 col0\" >0.6868</td>\n",
       "      <td id=\"T_f9ca0_row0_col1\" class=\"data row0 col1\" >1.1888</td>\n",
       "      <td id=\"T_f9ca0_row0_col2\" class=\"data row0 col2\" >1.0903</td>\n",
       "      <td id=\"T_f9ca0_row0_col3\" class=\"data row0 col3\" >0.2292</td>\n",
       "      <td id=\"T_f9ca0_row0_col4\" class=\"data row0 col4\" >0.2378</td>\n",
       "      <td id=\"T_f9ca0_row0_col5\" class=\"data row0 col5\" >0.2042</td>\n",
       "    </tr>\n",
       "    <tr>\n",
       "      <th id=\"T_f9ca0_level0_row1\" class=\"row_heading level0 row1\" >1</th>\n",
       "      <td id=\"T_f9ca0_row1_col0\" class=\"data row1 col0\" >0.7427</td>\n",
       "      <td id=\"T_f9ca0_row1_col1\" class=\"data row1 col1\" >0.9086</td>\n",
       "      <td id=\"T_f9ca0_row1_col2\" class=\"data row1 col2\" >0.9532</td>\n",
       "      <td id=\"T_f9ca0_row1_col3\" class=\"data row1 col3\" >0.2812</td>\n",
       "      <td id=\"T_f9ca0_row1_col4\" class=\"data row1 col4\" >0.2125</td>\n",
       "      <td id=\"T_f9ca0_row1_col5\" class=\"data row1 col5\" >0.2659</td>\n",
       "    </tr>\n",
       "    <tr>\n",
       "      <th id=\"T_f9ca0_level0_row2\" class=\"row_heading level0 row2\" >2</th>\n",
       "      <td id=\"T_f9ca0_row2_col0\" class=\"data row2 col0\" >0.7733</td>\n",
       "      <td id=\"T_f9ca0_row2_col1\" class=\"data row2 col1\" >0.9943</td>\n",
       "      <td id=\"T_f9ca0_row2_col2\" class=\"data row2 col2\" >0.9972</td>\n",
       "      <td id=\"T_f9ca0_row2_col3\" class=\"data row2 col3\" >0.1749</td>\n",
       "      <td id=\"T_f9ca0_row2_col4\" class=\"data row2 col4\" >0.2484</td>\n",
       "      <td id=\"T_f9ca0_row2_col5\" class=\"data row2 col5\" >0.2935</td>\n",
       "    </tr>\n",
       "    <tr>\n",
       "      <th id=\"T_f9ca0_level0_row3\" class=\"row_heading level0 row3\" >3</th>\n",
       "      <td id=\"T_f9ca0_row3_col0\" class=\"data row3 col0\" >0.7155</td>\n",
       "      <td id=\"T_f9ca0_row3_col1\" class=\"data row3 col1\" >0.7399</td>\n",
       "      <td id=\"T_f9ca0_row3_col2\" class=\"data row3 col2\" >0.8602</td>\n",
       "      <td id=\"T_f9ca0_row3_col3\" class=\"data row3 col3\" >0.6171</td>\n",
       "      <td id=\"T_f9ca0_row3_col4\" class=\"data row3 col4\" >0.1829</td>\n",
       "      <td id=\"T_f9ca0_row3_col5\" class=\"data row3 col5\" >0.2183</td>\n",
       "    </tr>\n",
       "    <tr>\n",
       "      <th id=\"T_f9ca0_level0_row4\" class=\"row_heading level0 row4\" >4</th>\n",
       "      <td id=\"T_f9ca0_row4_col0\" class=\"data row4 col0\" >0.7836</td>\n",
       "      <td id=\"T_f9ca0_row4_col1\" class=\"data row4 col1\" >1.2802</td>\n",
       "      <td id=\"T_f9ca0_row4_col2\" class=\"data row4 col2\" >1.1314</td>\n",
       "      <td id=\"T_f9ca0_row4_col3\" class=\"data row4 col3\" >0.2799</td>\n",
       "      <td id=\"T_f9ca0_row4_col4\" class=\"data row4 col4\" >0.2660</td>\n",
       "      <td id=\"T_f9ca0_row4_col5\" class=\"data row4 col5\" >0.2463</td>\n",
       "    </tr>\n",
       "    <tr>\n",
       "      <th id=\"T_f9ca0_level0_row5\" class=\"row_heading level0 row5\" >5</th>\n",
       "      <td id=\"T_f9ca0_row5_col0\" class=\"data row5 col0\" >0.8049</td>\n",
       "      <td id=\"T_f9ca0_row5_col1\" class=\"data row5 col1\" >0.8416</td>\n",
       "      <td id=\"T_f9ca0_row5_col2\" class=\"data row5 col2\" >0.9174</td>\n",
       "      <td id=\"T_f9ca0_row5_col3\" class=\"data row5 col3\" >-0.3388</td>\n",
       "      <td id=\"T_f9ca0_row5_col4\" class=\"data row5 col4\" >0.2584</td>\n",
       "      <td id=\"T_f9ca0_row5_col5\" class=\"data row5 col5\" >0.3985</td>\n",
       "    </tr>\n",
       "    <tr>\n",
       "      <th id=\"T_f9ca0_level0_row6\" class=\"row_heading level0 row6\" >6</th>\n",
       "      <td id=\"T_f9ca0_row6_col0\" class=\"data row6 col0\" >0.5756</td>\n",
       "      <td id=\"T_f9ca0_row6_col1\" class=\"data row6 col1\" >0.4831</td>\n",
       "      <td id=\"T_f9ca0_row6_col2\" class=\"data row6 col2\" >0.6950</td>\n",
       "      <td id=\"T_f9ca0_row6_col3\" class=\"data row6 col3\" >0.2723</td>\n",
       "      <td id=\"T_f9ca0_row6_col4\" class=\"data row6 col4\" >0.2146</td>\n",
       "      <td id=\"T_f9ca0_row6_col5\" class=\"data row6 col5\" >0.3060</td>\n",
       "    </tr>\n",
       "    <tr>\n",
       "      <th id=\"T_f9ca0_level0_row7\" class=\"row_heading level0 row7\" >7</th>\n",
       "      <td id=\"T_f9ca0_row7_col0\" class=\"data row7 col0\" >0.8351</td>\n",
       "      <td id=\"T_f9ca0_row7_col1\" class=\"data row7 col1\" >1.0952</td>\n",
       "      <td id=\"T_f9ca0_row7_col2\" class=\"data row7 col2\" >1.0465</td>\n",
       "      <td id=\"T_f9ca0_row7_col3\" class=\"data row7 col3\" >0.2895</td>\n",
       "      <td id=\"T_f9ca0_row7_col4\" class=\"data row7 col4\" >0.2596</td>\n",
       "      <td id=\"T_f9ca0_row7_col5\" class=\"data row7 col5\" >0.3784</td>\n",
       "    </tr>\n",
       "    <tr>\n",
       "      <th id=\"T_f9ca0_level0_row8\" class=\"row_heading level0 row8\" >8</th>\n",
       "      <td id=\"T_f9ca0_row8_col0\" class=\"data row8 col0\" >0.7746</td>\n",
       "      <td id=\"T_f9ca0_row8_col1\" class=\"data row8 col1\" >0.8087</td>\n",
       "      <td id=\"T_f9ca0_row8_col2\" class=\"data row8 col2\" >0.8993</td>\n",
       "      <td id=\"T_f9ca0_row8_col3\" class=\"data row8 col3\" >0.4793</td>\n",
       "      <td id=\"T_f9ca0_row8_col4\" class=\"data row8 col4\" >0.2506</td>\n",
       "      <td id=\"T_f9ca0_row8_col5\" class=\"data row8 col5\" >0.3623</td>\n",
       "    </tr>\n",
       "    <tr>\n",
       "      <th id=\"T_f9ca0_level0_row9\" class=\"row_heading level0 row9\" >9</th>\n",
       "      <td id=\"T_f9ca0_row9_col0\" class=\"data row9 col0\" >0.9623</td>\n",
       "      <td id=\"T_f9ca0_row9_col1\" class=\"data row9 col1\" >1.5008</td>\n",
       "      <td id=\"T_f9ca0_row9_col2\" class=\"data row9 col2\" >1.2251</td>\n",
       "      <td id=\"T_f9ca0_row9_col3\" class=\"data row9 col3\" >0.3207</td>\n",
       "      <td id=\"T_f9ca0_row9_col4\" class=\"data row9 col4\" >0.2776</td>\n",
       "      <td id=\"T_f9ca0_row9_col5\" class=\"data row9 col5\" >0.3316</td>\n",
       "    </tr>\n",
       "    <tr>\n",
       "      <th id=\"T_f9ca0_level0_row10\" class=\"row_heading level0 row10\" >Mean</th>\n",
       "      <td id=\"T_f9ca0_row10_col0\" class=\"data row10 col0\" >0.7654</td>\n",
       "      <td id=\"T_f9ca0_row10_col1\" class=\"data row10 col1\" >0.9841</td>\n",
       "      <td id=\"T_f9ca0_row10_col2\" class=\"data row10 col2\" >0.9816</td>\n",
       "      <td id=\"T_f9ca0_row10_col3\" class=\"data row10 col3\" >0.2605</td>\n",
       "      <td id=\"T_f9ca0_row10_col4\" class=\"data row10 col4\" >0.2408</td>\n",
       "      <td id=\"T_f9ca0_row10_col5\" class=\"data row10 col5\" >0.3005</td>\n",
       "    </tr>\n",
       "    <tr>\n",
       "      <th id=\"T_f9ca0_level0_row11\" class=\"row_heading level0 row11\" >Std</th>\n",
       "      <td id=\"T_f9ca0_row11_col0\" class=\"data row11 col0\" >0.0953</td>\n",
       "      <td id=\"T_f9ca0_row11_col1\" class=\"data row11 col1\" >0.2786</td>\n",
       "      <td id=\"T_f9ca0_row11_col2\" class=\"data row11 col2\" >0.1437</td>\n",
       "      <td id=\"T_f9ca0_row11_col3\" class=\"data row11 col3\" >0.2341</td>\n",
       "      <td id=\"T_f9ca0_row11_col4\" class=\"data row11 col4\" >0.0277</td>\n",
       "      <td id=\"T_f9ca0_row11_col5\" class=\"data row11 col5\" >0.0638</td>\n",
       "    </tr>\n",
       "  </tbody>\n",
       "</table>\n"
      ],
      "text/plain": [
       "<pandas.io.formats.style.Styler at 0x1babf771d10>"
      ]
     },
     "metadata": {},
     "output_type": "display_data"
    },
    {
     "data": {
      "text/html": [],
      "text/plain": [
       "<IPython.core.display.HTML object>"
      ]
     },
     "metadata": {},
     "output_type": "display_data"
    },
    {
     "name": "stdout",
     "output_type": "stream",
     "text": [
      "Fitting 10 folds for each of 10 candidates, totalling 100 fits\n",
      "Original model was better than the tuned model, hence it will be returned. NOTE: The display metrics are for the tuned model (not the original one).\n"
     ]
    }
   ],
   "source": [
    "tuned_model = tune_model(best_model, \n",
    "                        optimize='R2',)"
   ]
  },
  {
   "cell_type": "code",
   "execution_count": 21,
   "id": "1bdbacd1",
   "metadata": {},
   "outputs": [
    {
     "data": {
      "text/html": [],
      "text/plain": [
       "<IPython.core.display.HTML object>"
      ]
     },
     "metadata": {},
     "output_type": "display_data"
    },
    {
     "data": {
      "image/png": "[encoded data removed]",
      "text/plain": [
       "<Figure size 800x550 with 2 Axes>"
      ]
     },
     "metadata": {},
     "output_type": "display_data"
    },
    {
     "data": {
      "text/html": [],
      "text/plain": [
       "<IPython.core.display.HTML object>"
      ]
     },
     "metadata": {},
     "output_type": "display_data"
    },
    {
     "data": {
      "image/png": "[encoded data removed]",
      "text/plain": [
       "<Figure size 800x500 with 1 Axes>"
      ]
     },
     "metadata": {},
     "output_type": "display_data"
    },
    {
     "data": {
      "text/html": [],
      "text/plain": [
       "<IPython.core.display.HTML object>"
      ]
     },
     "metadata": {},
     "output_type": "display_data"
    },
    {
     "data": {
      "image/png": "[encoded data removed]",
      "text/plain": [
       "<Figure size 800x550 with 1 Axes>"
      ]
     },
     "metadata": {},
     "output_type": "display_data"
    },
    {
     "data": {
      "text/html": [],
      "text/plain": [
       "<IPython.core.display.HTML object>"
      ]
     },
     "metadata": {},
     "output_type": "display_data"
    },
    {
     "data": {
      "image/png": "[encoded data removed]",
      "text/plain": [
       "<Figure size 800x550 with 1 Axes>"
      ]
     },
     "metadata": {},
     "output_type": "display_data"
    },
    {
     "data": {
      "text/html": [],
      "text/plain": [
       "<IPython.core.display.HTML object>"
      ]
     },
     "metadata": {},
     "output_type": "display_data"
    },
    {
     "data": {
      "image/png": "[encoded data removed]",
      "text/plain": [
       "<Figure size 800x550 with 1 Axes>"
      ]
     },
     "metadata": {},
     "output_type": "display_data"
    }
   ],
   "source": [
    "#Evaluate the model\n",
    "plot_model(tuned_model, plot='residuals')\n",
    "plot_model(tuned_model, plot='feature')\n",
    "plot_model(tuned_model, plot='error')\n",
    "plot_model(tuned_model, plot='learning')\n",
    "plot_model(tuned_model, plot='cooks')\n",
    "\n"
   ]
  }
 ],
 "metadata": {
  "kernelspec": {
   "display_name": "PyCaret",
   "language": "python",
   "name": "python3"
  },
  "language_info": {
   "codemirror_mode": {
    "name": "ipython",
    "version": 3
   },
   "file_extension": ".py",
   "mimetype": "text/x-python",
   "name": "python",
   "nbconvert_exporter": "python",
   "pygments_lexer": "ipython3",
   "version": "3.11.13"
  }
 },
 "nbformat": 4,
 "nbformat_minor": 5
}
