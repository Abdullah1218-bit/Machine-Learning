{
 "cells": [
  {
   "cell_type": "code",
   "execution_count": 29,
   "id": "fec0d342",
   "metadata": {},
   "outputs": [
    {
     "data": {
      "application/vnd.microsoft.datawrangler.viewer.v0+json": {
       "columns": [
        {
         "name": "index",
         "rawType": "int64",
         "type": "integer"
        },
        {
         "name": "carat",
         "rawType": "float64",
         "type": "float"
        },
        {
         "name": "cut",
         "rawType": "category",
         "type": "unknown"
        },
        {
         "name": "color",
         "rawType": "category",
         "type": "unknown"
        },
        {
         "name": "clarity",
         "rawType": "category",
         "type": "unknown"
        },
        {
         "name": "depth",
         "rawType": "float64",
         "type": "float"
        },
        {
         "name": "table",
         "rawType": "float64",
         "type": "float"
        },
        {
         "name": "price",
         "rawType": "int64",
         "type": "integer"
        },
        {
         "name": "x",
         "rawType": "float64",
         "type": "float"
        },
        {
         "name": "y",
         "rawType": "float64",
         "type": "float"
        },
        {
         "name": "z",
         "rawType": "float64",
         "type": "float"
        }
       ],
       "ref": "484e868f-7234-48e6-9d2c-0a48aaf4ef1a",
       "rows": [
        [
         "0",
         "0.23",
         "Ideal",
         "E",
         "SI2",
         "61.5",
         "55.0",
         "326",
         "3.95",
         "3.98",
         "2.43"
        ],
        [
         "1",
         "0.21",
         "Premium",
         "E",
         "SI1",
         "59.8",
         "61.0",
         "326",
         "3.89",
         "3.84",
         "2.31"
        ],
        [
         "2",
         "0.23",
         "Good",
         "E",
         "VS1",
         "56.9",
         "65.0",
         "327",
         "4.05",
         "4.07",
         "2.31"
        ],
        [
         "3",
         "0.29",
         "Premium",
         "I",
         "VS2",
         "62.4",
         "58.0",
         "334",
         "4.2",
         "4.23",
         "2.63"
        ],
        [
         "4",
         "0.31",
         "Good",
         "J",
         "SI2",
         "63.3",
         "58.0",
         "335",
         "4.34",
         "4.35",
         "2.75"
        ],
        [
         "5",
         "0.24",
         "Very Good",
         "J",
         "VVS2",
         "62.8",
         "57.0",
         "336",
         "3.94",
         "3.96",
         "2.48"
        ],
        [
         "6",
         "0.24",
         "Very Good",
         "I",
         "VVS1",
         "62.3",
         "57.0",
         "336",
         "3.95",
         "3.98",
         "2.47"
        ],
        [
         "7",
         "0.26",
         "Very Good",
         "H",
         "SI1",
         "61.9",
         "55.0",
         "337",
         "4.07",
         "4.11",
         "2.53"
        ],
        [
         "8",
         "0.22",
         "Fair",
         "E",
         "VS2",
         "65.1",
         "61.0",
         "337",
         "3.87",
         "3.78",
         "2.49"
        ],
        [
         "9",
         "0.23",
         "Very Good",
         "H",
         "VS1",
         "59.4",
         "61.0",
         "338",
         "4.0",
         "4.05",
         "2.39"
        ],
        [
         "10",
         "0.3",
         "Good",
         "J",
         "SI1",
         "64.0",
         "55.0",
         "339",
         "4.25",
         "4.28",
         "2.73"
        ],
        [
         "11",
         "0.23",
         "Ideal",
         "J",
         "VS1",
         "62.8",
         "56.0",
         "340",
         "3.93",
         "3.9",
         "2.46"
        ],
        [
         "12",
         "0.22",
         "Premium",
         "F",
         "SI1",
         "60.4",
         "61.0",
         "342",
         "3.88",
         "3.84",
         "2.33"
        ],
        [
         "13",
         "0.31",
         "Ideal",
         "J",
         "SI2",
         "62.2",
         "54.0",
         "344",
         "4.35",
         "4.37",
         "2.71"
        ],
        [
         "14",
         "0.2",
         "Premium",
         "E",
         "SI2",
         "60.2",
         "62.0",
         "345",
         "3.79",
         "3.75",
         "2.27"
        ],
        [
         "15",
         "0.32",
         "Premium",
         "E",
         "I1",
         "60.9",
         "58.0",
         "345",
         "4.38",
         "4.42",
         "2.68"
        ],
        [
         "16",
         "0.3",
         "Ideal",
         "I",
         "SI2",
         "62.0",
         "54.0",
         "348",
         "4.31",
         "4.34",
         "2.68"
        ],
        [
         "17",
         "0.3",
         "Good",
         "J",
         "SI1",
         "63.4",
         "54.0",
         "351",
         "4.23",
         "4.29",
         "2.7"
        ],
        [
         "18",
         "0.3",
         "Good",
         "J",
         "SI1",
         "63.8",
         "56.0",
         "351",
         "4.23",
         "4.26",
         "2.71"
        ],
        [
         "19",
         "0.3",
         "Very Good",
         "J",
         "SI1",
         "62.7",
         "59.0",
         "351",
         "4.21",
         "4.27",
         "2.66"
        ],
        [
         "20",
         "0.3",
         "Good",
         "I",
         "SI2",
         "63.3",
         "56.0",
         "351",
         "4.26",
         "4.3",
         "2.71"
        ],
        [
         "21",
         "0.23",
         "Very Good",
         "E",
         "VS2",
         "63.8",
         "55.0",
         "352",
         "3.85",
         "3.92",
         "2.48"
        ],
        [
         "22",
         "0.23",
         "Very Good",
         "H",
         "VS1",
         "61.0",
         "57.0",
         "353",
         "3.94",
         "3.96",
         "2.41"
        ],
        [
         "23",
         "0.31",
         "Very Good",
         "J",
         "SI1",
         "59.4",
         "62.0",
         "353",
         "4.39",
         "4.43",
         "2.62"
        ],
        [
         "24",
         "0.31",
         "Very Good",
         "J",
         "SI1",
         "58.1",
         "62.0",
         "353",
         "4.44",
         "4.47",
         "2.59"
        ],
        [
         "25",
         "0.23",
         "Very Good",
         "G",
         "VVS2",
         "60.4",
         "58.0",
         "354",
         "3.97",
         "4.01",
         "2.41"
        ],
        [
         "26",
         "0.24",
         "Premium",
         "I",
         "VS1",
         "62.5",
         "57.0",
         "355",
         "3.97",
         "3.94",
         "2.47"
        ],
        [
         "27",
         "0.3",
         "Very Good",
         "J",
         "VS2",
         "62.2",
         "57.0",
         "357",
         "4.28",
         "4.3",
         "2.67"
        ],
        [
         "28",
         "0.23",
         "Very Good",
         "D",
         "VS2",
         "60.5",
         "61.0",
         "357",
         "3.96",
         "3.97",
         "2.4"
        ],
        [
         "29",
         "0.23",
         "Very Good",
         "F",
         "VS1",
         "60.9",
         "57.0",
         "357",
         "3.96",
         "3.99",
         "2.42"
        ],
        [
         "30",
         "0.23",
         "Very Good",
         "F",
         "VS1",
         "60.0",
         "57.0",
         "402",
         "4.0",
         "4.03",
         "2.41"
        ],
        [
         "31",
         "0.23",
         "Very Good",
         "F",
         "VS1",
         "59.8",
         "57.0",
         "402",
         "4.04",
         "4.06",
         "2.42"
        ],
        [
         "32",
         "0.23",
         "Very Good",
         "E",
         "VS1",
         "60.7",
         "59.0",
         "402",
         "3.97",
         "4.01",
         "2.42"
        ],
        [
         "33",
         "0.23",
         "Very Good",
         "E",
         "VS1",
         "59.5",
         "58.0",
         "402",
         "4.01",
         "4.06",
         "2.4"
        ],
        [
         "34",
         "0.23",
         "Very Good",
         "D",
         "VS1",
         "61.9",
         "58.0",
         "402",
         "3.92",
         "3.96",
         "2.44"
        ],
        [
         "35",
         "0.23",
         "Good",
         "F",
         "VS1",
         "58.2",
         "59.0",
         "402",
         "4.06",
         "4.08",
         "2.37"
        ],
        [
         "36",
         "0.23",
         "Good",
         "E",
         "VS1",
         "64.1",
         "59.0",
         "402",
         "3.83",
         "3.85",
         "2.46"
        ],
        [
         "37",
         "0.31",
         "Good",
         "H",
         "SI1",
         "64.0",
         "54.0",
         "402",
         "4.29",
         "4.31",
         "2.75"
        ],
        [
         "38",
         "0.26",
         "Very Good",
         "D",
         "VS2",
         "60.8",
         "59.0",
         "403",
         "4.13",
         "4.16",
         "2.52"
        ],
        [
         "39",
         "0.33",
         "Ideal",
         "I",
         "SI2",
         "61.8",
         "55.0",
         "403",
         "4.49",
         "4.51",
         "2.78"
        ],
        [
         "40",
         "0.33",
         "Ideal",
         "I",
         "SI2",
         "61.2",
         "56.0",
         "403",
         "4.49",
         "4.5",
         "2.75"
        ],
        [
         "41",
         "0.33",
         "Ideal",
         "J",
         "SI1",
         "61.1",
         "56.0",
         "403",
         "4.49",
         "4.55",
         "2.76"
        ],
        [
         "42",
         "0.26",
         "Good",
         "D",
         "VS2",
         "65.2",
         "56.0",
         "403",
         "3.99",
         "4.02",
         "2.61"
        ],
        [
         "43",
         "0.26",
         "Good",
         "D",
         "VS1",
         "58.4",
         "63.0",
         "403",
         "4.19",
         "4.24",
         "2.46"
        ],
        [
         "44",
         "0.32",
         "Good",
         "H",
         "SI2",
         "63.1",
         "56.0",
         "403",
         "4.34",
         "4.37",
         "2.75"
        ],
        [
         "45",
         "0.29",
         "Premium",
         "F",
         "SI1",
         "62.4",
         "58.0",
         "403",
         "4.24",
         "4.26",
         "2.65"
        ],
        [
         "46",
         "0.32",
         "Very Good",
         "H",
         "SI2",
         "61.8",
         "55.0",
         "403",
         "4.35",
         "4.42",
         "2.71"
        ],
        [
         "47",
         "0.32",
         "Good",
         "H",
         "SI2",
         "63.8",
         "56.0",
         "403",
         "4.36",
         "4.38",
         "2.79"
        ],
        [
         "48",
         "0.25",
         "Very Good",
         "E",
         "VS2",
         "63.3",
         "60.0",
         "404",
         "4.0",
         "4.03",
         "2.54"
        ],
        [
         "49",
         "0.29",
         "Very Good",
         "H",
         "SI2",
         "60.7",
         "60.0",
         "404",
         "4.33",
         "4.37",
         "2.64"
        ]
       ],
       "shape": {
        "columns": 10,
        "rows": 53940
       }
      },
      "text/html": [
       "<div>\n",
       "<style scoped>\n",
       "    .dataframe tbody tr th:only-of-type {\n",
       "        vertical-align: middle;\n",
       "    }\n",
       "\n",
       "    .dataframe tbody tr th {\n",
       "        vertical-align: top;\n",
       "    }\n",
       "\n",
       "    .dataframe thead th {\n",
       "        text-align: right;\n",
       "    }\n",
       "</style>\n",
       "<table border=\"1\" class=\"dataframe\">\n",
       "  <thead>\n",
       "    <tr style=\"text-align: right;\">\n",
       "      <th></th>\n",
       "      <th>carat</th>\n",
       "      <th>cut</th>\n",
       "      <th>color</th>\n",
       "      <th>clarity</th>\n",
       "      <th>depth</th>\n",
       "      <th>table</th>\n",
       "      <th>price</th>\n",
       "      <th>x</th>\n",
       "      <th>y</th>\n",
       "      <th>z</th>\n",
       "    </tr>\n",
       "  </thead>\n",
       "  <tbody>\n",
       "    <tr>\n",
       "      <th>0</th>\n",
       "      <td>0.23</td>\n",
       "      <td>Ideal</td>\n",
       "      <td>E</td>\n",
       "      <td>SI2</td>\n",
       "      <td>61.5</td>\n",
       "      <td>55.0</td>\n",
       "      <td>326</td>\n",
       "      <td>3.95</td>\n",
       "      <td>3.98</td>\n",
       "      <td>2.43</td>\n",
       "    </tr>\n",
       "    <tr>\n",
       "      <th>1</th>\n",
       "      <td>0.21</td>\n",
       "      <td>Premium</td>\n",
       "      <td>E</td>\n",
       "      <td>SI1</td>\n",
       "      <td>59.8</td>\n",
       "      <td>61.0</td>\n",
       "      <td>326</td>\n",
       "      <td>3.89</td>\n",
       "      <td>3.84</td>\n",
       "      <td>2.31</td>\n",
       "    </tr>\n",
       "    <tr>\n",
       "      <th>2</th>\n",
       "      <td>0.23</td>\n",
       "      <td>Good</td>\n",
       "      <td>E</td>\n",
       "      <td>VS1</td>\n",
       "      <td>56.9</td>\n",
       "      <td>65.0</td>\n",
       "      <td>327</td>\n",
       "      <td>4.05</td>\n",
       "      <td>4.07</td>\n",
       "      <td>2.31</td>\n",
       "    </tr>\n",
       "    <tr>\n",
       "      <th>3</th>\n",
       "      <td>0.29</td>\n",
       "      <td>Premium</td>\n",
       "      <td>I</td>\n",
       "      <td>VS2</td>\n",
       "      <td>62.4</td>\n",
       "      <td>58.0</td>\n",
       "      <td>334</td>\n",
       "      <td>4.20</td>\n",
       "      <td>4.23</td>\n",
       "      <td>2.63</td>\n",
       "    </tr>\n",
       "    <tr>\n",
       "      <th>4</th>\n",
       "      <td>0.31</td>\n",
       "      <td>Good</td>\n",
       "      <td>J</td>\n",
       "      <td>SI2</td>\n",
       "      <td>63.3</td>\n",
       "      <td>58.0</td>\n",
       "      <td>335</td>\n",
       "      <td>4.34</td>\n",
       "      <td>4.35</td>\n",
       "      <td>2.75</td>\n",
       "    </tr>\n",
       "    <tr>\n",
       "      <th>...</th>\n",
       "      <td>...</td>\n",
       "      <td>...</td>\n",
       "      <td>...</td>\n",
       "      <td>...</td>\n",
       "      <td>...</td>\n",
       "      <td>...</td>\n",
       "      <td>...</td>\n",
       "      <td>...</td>\n",
       "      <td>...</td>\n",
       "      <td>...</td>\n",
       "    </tr>\n",
       "    <tr>\n",
       "      <th>53935</th>\n",
       "      <td>0.72</td>\n",
       "      <td>Ideal</td>\n",
       "      <td>D</td>\n",
       "      <td>SI1</td>\n",
       "      <td>60.8</td>\n",
       "      <td>57.0</td>\n",
       "      <td>2757</td>\n",
       "      <td>5.75</td>\n",
       "      <td>5.76</td>\n",
       "      <td>3.50</td>\n",
       "    </tr>\n",
       "    <tr>\n",
       "      <th>53936</th>\n",
       "      <td>0.72</td>\n",
       "      <td>Good</td>\n",
       "      <td>D</td>\n",
       "      <td>SI1</td>\n",
       "      <td>63.1</td>\n",
       "      <td>55.0</td>\n",
       "      <td>2757</td>\n",
       "      <td>5.69</td>\n",
       "      <td>5.75</td>\n",
       "      <td>3.61</td>\n",
       "    </tr>\n",
       "    <tr>\n",
       "      <th>53937</th>\n",
       "      <td>0.70</td>\n",
       "      <td>Very Good</td>\n",
       "      <td>D</td>\n",
       "      <td>SI1</td>\n",
       "      <td>62.8</td>\n",
       "      <td>60.0</td>\n",
       "      <td>2757</td>\n",
       "      <td>5.66</td>\n",
       "      <td>5.68</td>\n",
       "      <td>3.56</td>\n",
       "    </tr>\n",
       "    <tr>\n",
       "      <th>53938</th>\n",
       "      <td>0.86</td>\n",
       "      <td>Premium</td>\n",
       "      <td>H</td>\n",
       "      <td>SI2</td>\n",
       "      <td>61.0</td>\n",
       "      <td>58.0</td>\n",
       "      <td>2757</td>\n",
       "      <td>6.15</td>\n",
       "      <td>6.12</td>\n",
       "      <td>3.74</td>\n",
       "    </tr>\n",
       "    <tr>\n",
       "      <th>53939</th>\n",
       "      <td>0.75</td>\n",
       "      <td>Ideal</td>\n",
       "      <td>D</td>\n",
       "      <td>SI2</td>\n",
       "      <td>62.2</td>\n",
       "      <td>55.0</td>\n",
       "      <td>2757</td>\n",
       "      <td>5.83</td>\n",
       "      <td>5.87</td>\n",
       "      <td>3.64</td>\n",
       "    </tr>\n",
       "  </tbody>\n",
       "</table>\n",
       "<p>53940 rows × 10 columns</p>\n",
       "</div>"
      ],
      "text/plain": [
       "       carat        cut color clarity  depth  table  price     x     y     z\n",
       "0       0.23      Ideal     E     SI2   61.5   55.0    326  3.95  3.98  2.43\n",
       "1       0.21    Premium     E     SI1   59.8   61.0    326  3.89  3.84  2.31\n",
       "2       0.23       Good     E     VS1   56.9   65.0    327  4.05  4.07  2.31\n",
       "3       0.29    Premium     I     VS2   62.4   58.0    334  4.20  4.23  2.63\n",
       "4       0.31       Good     J     SI2   63.3   58.0    335  4.34  4.35  2.75\n",
       "...      ...        ...   ...     ...    ...    ...    ...   ...   ...   ...\n",
       "53935   0.72      Ideal     D     SI1   60.8   57.0   2757  5.75  5.76  3.50\n",
       "53936   0.72       Good     D     SI1   63.1   55.0   2757  5.69  5.75  3.61\n",
       "53937   0.70  Very Good     D     SI1   62.8   60.0   2757  5.66  5.68  3.56\n",
       "53938   0.86    Premium     H     SI2   61.0   58.0   2757  6.15  6.12  3.74\n",
       "53939   0.75      Ideal     D     SI2   62.2   55.0   2757  5.83  5.87  3.64\n",
       "\n",
       "[53940 rows x 10 columns]"
      ]
     },
     "execution_count": 29,
     "metadata": {},
     "output_type": "execute_result"
    }
   ],
   "source": [
    "import pandas as pd\n",
    "import numpy as np\n",
    "import seaborn as sns\n",
    "import matplotlib.pyplot as plt\n",
    "df=sns.load_dataset('diamonds')\n",
    "df"
   ]
  },
  {
   "cell_type": "code",
   "execution_count": 30,
   "id": "a1b16401",
   "metadata": {},
   "outputs": [
    {
     "data": {
      "application/vnd.microsoft.datawrangler.viewer.v0+json": {
       "columns": [
        {
         "name": "index",
         "rawType": "object",
         "type": "string"
        },
        {
         "name": "0",
         "rawType": "int64",
         "type": "integer"
        }
       ],
       "ref": "27dd8dec-a31c-4774-babb-c31894ceaf31",
       "rows": [
        [
         "carat",
         "0"
        ],
        [
         "cut",
         "0"
        ],
        [
         "color",
         "0"
        ],
        [
         "clarity",
         "0"
        ],
        [
         "depth",
         "0"
        ],
        [
         "table",
         "0"
        ],
        [
         "price",
         "0"
        ],
        [
         "x",
         "0"
        ],
        [
         "y",
         "0"
        ],
        [
         "z",
         "0"
        ]
       ],
       "shape": {
        "columns": 1,
        "rows": 10
       }
      },
      "text/plain": [
       "carat      0\n",
       "cut        0\n",
       "color      0\n",
       "clarity    0\n",
       "depth      0\n",
       "table      0\n",
       "price      0\n",
       "x          0\n",
       "y          0\n",
       "z          0\n",
       "dtype: int64"
      ]
     },
     "execution_count": 30,
     "metadata": {},
     "output_type": "execute_result"
    }
   ],
   "source": [
    "df.isnull().sum().sort_values(ascending=False)"
   ]
  },
  {
   "cell_type": "code",
   "execution_count": 31,
   "id": "dcd54e8d",
   "metadata": {},
   "outputs": [
    {
     "data": {
      "text/plain": [
       "Index(['cut', 'color', 'clarity'], dtype='object')"
      ]
     },
     "execution_count": 31,
     "metadata": {},
     "output_type": "execute_result"
    }
   ],
   "source": [
    "df.select_dtypes(include=['object','category']).columns"
   ]
  },
  {
   "cell_type": "code",
   "execution_count": null,
   "id": "c0010147",
   "metadata": {},
   "outputs": [
    {
     "data": {
      "text/plain": [
       "Index(['carat', 'depth', 'table', 'price', 'x', 'y', 'z'], dtype='object')"
      ]
     },
     "execution_count": 32,
     "metadata": {},
     "output_type": "execute_result"
    }
   ],
   "source": [
    "df.select_dtypes(include=[int,float]).columns "
   ]
  },
  {
   "cell_type": "code",
   "execution_count": 33,
   "id": "adbf7570",
   "metadata": {},
   "outputs": [],
   "source": [
    "from sklearn.preprocessing import LabelEncoder,OneHotEncoder,StandardScaler\n",
    "from sklearn.compose import ColumnTransformer\n",
    "from sklearn.model_selection import train_test_split,GridSearchCV"
   ]
  },
  {
   "cell_type": "code",
   "execution_count": 34,
   "id": "7d77edfb",
   "metadata": {},
   "outputs": [],
   "source": [
    "categoric_cols=['cut', 'color', 'clarity']\n",
    "numeric_cols=['carat', 'depth', 'table', 'x', 'y','z']\n",
    "\n",
    "preprocessor=ColumnTransformer(\n",
    "    transformers=[\n",
    "        ('num',StandardScaler(),numeric_cols),\n",
    "        ('cat',OneHotEncoder(),categoric_cols)]\n",
    "    \n",
    ")\n"
   ]
  },
  {
   "cell_type": "code",
   "execution_count": 35,
   "id": "3eafff6c",
   "metadata": {},
   "outputs": [],
   "source": [
    "import warnings\n",
    "warnings.filterwarnings('ignore')\n",
    "from sklearn.pipeline import Pipeline\n",
    "from sklearn.linear_model import LogisticRegression,HuberRegressor,LinearRegression\n",
    "from catboost import CatBoostRegressor\n",
    "from xgboost import XGBRegressor\n",
    "from sklearn.ensemble import GradientBoostingRegressor\n",
    "from lightgbm import LGBMRegressor\n",
    "\n"
   ]
  },
  {
   "cell_type": "code",
   "execution_count": null,
   "id": "ade95b56",
   "metadata": {},
   "outputs": [
    {
     "name": "stdout",
     "output_type": "stream",
     "text": [
      "Best Parameters: {'model__learning_rate': 0.05, 'model__max_depth': 5, 'model__min_samples_leaf': 1, 'model__min_samples_split': 2, 'model__n_estimators': 200, 'model__subsample': 0.8}\n",
      "Best Score: -3238579.9144031424\n",
      "RMSE: 1799.6054885455153\n"
     ]
    }
   ],
   "source": [
    "X = df.drop('price', axis=1)\n",
    "y = df['price']\n",
    "pipeline=Pipeline([\n",
    "    ('preprocessor',preprocessor),\n",
    "    ('model',GradientBoostingRegressor())\n",
    "])\n",
    "X_train, X_test, y_train, y_test = train_test_split(X, y, test_size=0.2, random_state=42)\n",
    "\n",
    "param_grid={\n",
    "    'model__n_estimators': [200],\n",
    "    'model__learning_rate': [0.05],\n",
    "    'model__max_depth': [5],\n",
    "    'model__subsample': [0.8],\n",
    "    'model__min_samples_split': [2],\n",
    "    'model__min_samples_leaf': [1]\n",
    "}\n",
    "\n",
    "grid_search = GridSearchCV(pipeline,\n",
    "                            param_grid, \n",
    "                            cv=5, \n",
    "                            scoring='neg_mean_squared_error')\n",
    "\n",
    "grid_search.fit(X, y)\n",
    "\n",
    "print(\"Best Parameters:\", grid_search.best_params_)\n",
    "print(\"Best Score:\", grid_search.best_score_)\n",
    "rmse = np.sqrt(-grid_search.best_score_)\n",
    "print('RMSE:', rmse)\n"
   ]
  },
  {
   "cell_type": "code",
   "execution_count": 42,
   "id": "d86f726c",
   "metadata": {},
   "outputs": [],
   "source": [
    "from sklearn.metrics import mean_absolute_error,root_mean_squared_error,mean_absolute_percentage_error,mean_squared_error"
   ]
  },
  {
   "cell_type": "code",
   "execution_count": 46,
   "id": "53d812ae",
   "metadata": {},
   "outputs": [
    {
     "name": "stdout",
     "output_type": "stream",
     "text": [
      "MSE 283608.7106103539\n",
      "MAE 296.0478350531038\n"
     ]
    }
   ],
   "source": [
    "y_pred = grid_search.best_estimator_.predict(X)\n",
    "print('MSE', mean_squared_error(y, y_pred))\n",
    "print('MAE', mean_absolute_error(y, y_pred))"
   ]
  }
 ],
 "metadata": {
  "kernelspec": {
   "display_name": "base",
   "language": "python",
   "name": "python3"
  },
  "language_info": {
   "codemirror_mode": {
    "name": "ipython",
    "version": 3
   },
   "file_extension": ".py",
   "mimetype": "text/x-python",
   "name": "python",
   "nbconvert_exporter": "python",
   "pygments_lexer": "ipython3",
   "version": "3.12.7"
  }
 },
 "nbformat": 4,
 "nbformat_minor": 5
}
